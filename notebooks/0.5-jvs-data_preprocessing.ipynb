{
 "cells": [
  {
   "cell_type": "markdown",
   "metadata": {},
   "source": [
    "# 0.5 Data preprocessing"
   ]
  },
  {
   "cell_type": "markdown",
   "metadata": {},
   "source": [
    "## Imports"
   ]
  },
  {
   "cell_type": "code",
   "execution_count": 1,
   "metadata": {},
   "outputs": [],
   "source": [
    "import pandas as pd\n",
    "import geopandas as gpd\n",
    "import matplotlib.pyplot as plt\n",
    "\n",
    "from pyprojroot import here"
   ]
  },
  {
   "cell_type": "code",
   "execution_count": 2,
   "metadata": {},
   "outputs": [],
   "source": [
    "setup_file = here(\"notebooks\").joinpath(\"0.3-jvs-setup.ipynb\")\n",
    "%run $setup_file"
   ]
  },
  {
   "cell_type": "markdown",
   "metadata": {},
   "source": [
    "## Load data"
   ]
  },
  {
   "cell_type": "code",
   "execution_count": 3,
   "metadata": {},
   "outputs": [],
   "source": [
    "data_dir = datadir(\"external\")"
   ]
  },
  {
   "cell_type": "markdown",
   "metadata": {},
   "source": [
    "### Mexican government"
   ]
  },
  {
   "cell_type": "code",
   "execution_count": 4,
   "metadata": {},
   "outputs": [],
   "source": [
    "mexican_government_data_dir = data_dir.joinpath(\"mexican_government\")"
   ]
  },
  {
   "cell_type": "markdown",
   "metadata": {},
   "source": [
    "#### Cases"
   ]
  },
  {
   "cell_type": "code",
   "execution_count": 5,
   "metadata": {},
   "outputs": [
    {
     "data": {
      "text/plain": [
       "True"
      ]
     },
     "execution_count": 5,
     "metadata": {},
     "output_type": "execute_result"
    }
   ],
   "source": [
    "cases_dir = mexican_government_data_dir.joinpath(\"cases\")\n",
    "last_cases_update_file = !ls -1 -t $cases_dir\n",
    "cases_file = cases_dir.joinpath(last_cases_update_file[0])\n",
    "#cases_file = cases_dir.joinpath(\"200810COVID19MEXICO.csv\")\n",
    "cases_file.exists()"
   ]
  },
  {
   "cell_type": "code",
   "execution_count": 6,
   "metadata": {
    "tags": []
   },
   "outputs": [],
   "source": [
    "date_columns = [\"FECHA_{}\".format(name) for name in [\"ACTUALIZACION\", \"INGRESO\", \"SINTOMAS\", \"DEF\"]]\n",
    "cases_df = pd.read_csv(filepath_or_buffer=cases_file, engine=\"python\", parse_dates=date_columns, date_parser=lambda x: pd.to_datetime(x, errors=\"coerce\"))"
   ]
  },
  {
   "cell_type": "code",
   "execution_count": 7,
   "metadata": {
    "tags": []
   },
   "outputs": [
    {
     "name": "stdout",
     "output_type": "stream",
     "text": [
      "(1112114, 35)\n",
      "Index(['FECHA_ACTUALIZACION', 'ID_REGISTRO', 'ORIGEN', 'SECTOR', 'ENTIDAD_UM',\n",
      "       'SEXO', 'ENTIDAD_NAC', 'ENTIDAD_RES', 'MUNICIPIO_RES', 'TIPO_PACIENTE',\n",
      "       'FECHA_INGRESO', 'FECHA_SINTOMAS', 'FECHA_DEF', 'INTUBADO', 'NEUMONIA',\n",
      "       'EDAD', 'NACIONALIDAD', 'EMBARAZO', 'HABLA_LENGUA_INDIG', 'DIABETES',\n",
      "       'EPOC', 'ASMA', 'INMUSUPR', 'HIPERTENSION', 'OTRA_COM',\n",
      "       'CARDIOVASCULAR', 'OBESIDAD', 'RENAL_CRONICA', 'TABAQUISMO',\n",
      "       'OTRO_CASO', 'RESULTADO', 'MIGRANTE', 'PAIS_NACIONALIDAD',\n",
      "       'PAIS_ORIGEN', 'UCI'],\n",
      "      dtype='object')\n"
     ]
    },
    {
     "data": {
      "text/html": [
       "<div>\n",
       "<style scoped>\n",
       "    .dataframe tbody tr th:only-of-type {\n",
       "        vertical-align: middle;\n",
       "    }\n",
       "\n",
       "    .dataframe tbody tr th {\n",
       "        vertical-align: top;\n",
       "    }\n",
       "\n",
       "    .dataframe thead th {\n",
       "        text-align: right;\n",
       "    }\n",
       "</style>\n",
       "<table border=\"1\" class=\"dataframe\">\n",
       "  <thead>\n",
       "    <tr style=\"text-align: right;\">\n",
       "      <th></th>\n",
       "      <th>FECHA_ACTUALIZACION</th>\n",
       "      <th>ID_REGISTRO</th>\n",
       "      <th>ORIGEN</th>\n",
       "      <th>SECTOR</th>\n",
       "      <th>ENTIDAD_UM</th>\n",
       "      <th>SEXO</th>\n",
       "      <th>ENTIDAD_NAC</th>\n",
       "      <th>ENTIDAD_RES</th>\n",
       "      <th>MUNICIPIO_RES</th>\n",
       "      <th>TIPO_PACIENTE</th>\n",
       "      <th>...</th>\n",
       "      <th>CARDIOVASCULAR</th>\n",
       "      <th>OBESIDAD</th>\n",
       "      <th>RENAL_CRONICA</th>\n",
       "      <th>TABAQUISMO</th>\n",
       "      <th>OTRO_CASO</th>\n",
       "      <th>RESULTADO</th>\n",
       "      <th>MIGRANTE</th>\n",
       "      <th>PAIS_NACIONALIDAD</th>\n",
       "      <th>PAIS_ORIGEN</th>\n",
       "      <th>UCI</th>\n",
       "    </tr>\n",
       "  </thead>\n",
       "  <tbody>\n",
       "    <tr>\n",
       "      <th>0</th>\n",
       "      <td>2020-08-11</td>\n",
       "      <td>1a62a3</td>\n",
       "      <td>2</td>\n",
       "      <td>3</td>\n",
       "      <td>15</td>\n",
       "      <td>1</td>\n",
       "      <td>15</td>\n",
       "      <td>15</td>\n",
       "      <td>2</td>\n",
       "      <td>1</td>\n",
       "      <td>...</td>\n",
       "      <td>2</td>\n",
       "      <td>2</td>\n",
       "      <td>2</td>\n",
       "      <td>2</td>\n",
       "      <td>1</td>\n",
       "      <td>1</td>\n",
       "      <td>99</td>\n",
       "      <td>México</td>\n",
       "      <td>99</td>\n",
       "      <td>97</td>\n",
       "    </tr>\n",
       "    <tr>\n",
       "      <th>1</th>\n",
       "      <td>2020-08-11</td>\n",
       "      <td>1491cc</td>\n",
       "      <td>2</td>\n",
       "      <td>3</td>\n",
       "      <td>27</td>\n",
       "      <td>1</td>\n",
       "      <td>27</td>\n",
       "      <td>27</td>\n",
       "      <td>4</td>\n",
       "      <td>1</td>\n",
       "      <td>...</td>\n",
       "      <td>2</td>\n",
       "      <td>2</td>\n",
       "      <td>2</td>\n",
       "      <td>2</td>\n",
       "      <td>1</td>\n",
       "      <td>1</td>\n",
       "      <td>99</td>\n",
       "      <td>México</td>\n",
       "      <td>99</td>\n",
       "      <td>97</td>\n",
       "    </tr>\n",
       "    <tr>\n",
       "      <th>2</th>\n",
       "      <td>2020-08-11</td>\n",
       "      <td>12bed1</td>\n",
       "      <td>2</td>\n",
       "      <td>3</td>\n",
       "      <td>15</td>\n",
       "      <td>1</td>\n",
       "      <td>15</td>\n",
       "      <td>15</td>\n",
       "      <td>106</td>\n",
       "      <td>1</td>\n",
       "      <td>...</td>\n",
       "      <td>2</td>\n",
       "      <td>2</td>\n",
       "      <td>2</td>\n",
       "      <td>2</td>\n",
       "      <td>99</td>\n",
       "      <td>1</td>\n",
       "      <td>99</td>\n",
       "      <td>México</td>\n",
       "      <td>99</td>\n",
       "      <td>97</td>\n",
       "    </tr>\n",
       "    <tr>\n",
       "      <th>3</th>\n",
       "      <td>2020-08-11</td>\n",
       "      <td>117245</td>\n",
       "      <td>2</td>\n",
       "      <td>3</td>\n",
       "      <td>25</td>\n",
       "      <td>2</td>\n",
       "      <td>26</td>\n",
       "      <td>25</td>\n",
       "      <td>6</td>\n",
       "      <td>1</td>\n",
       "      <td>...</td>\n",
       "      <td>2</td>\n",
       "      <td>2</td>\n",
       "      <td>2</td>\n",
       "      <td>2</td>\n",
       "      <td>99</td>\n",
       "      <td>1</td>\n",
       "      <td>99</td>\n",
       "      <td>México</td>\n",
       "      <td>99</td>\n",
       "      <td>97</td>\n",
       "    </tr>\n",
       "    <tr>\n",
       "      <th>4</th>\n",
       "      <td>2020-08-11</td>\n",
       "      <td>117cf6</td>\n",
       "      <td>2</td>\n",
       "      <td>3</td>\n",
       "      <td>27</td>\n",
       "      <td>1</td>\n",
       "      <td>27</td>\n",
       "      <td>27</td>\n",
       "      <td>13</td>\n",
       "      <td>2</td>\n",
       "      <td>...</td>\n",
       "      <td>2</td>\n",
       "      <td>2</td>\n",
       "      <td>2</td>\n",
       "      <td>2</td>\n",
       "      <td>2</td>\n",
       "      <td>1</td>\n",
       "      <td>99</td>\n",
       "      <td>México</td>\n",
       "      <td>99</td>\n",
       "      <td>2</td>\n",
       "    </tr>\n",
       "  </tbody>\n",
       "</table>\n",
       "<p>5 rows × 35 columns</p>\n",
       "</div>"
      ],
      "text/plain": [
       "  FECHA_ACTUALIZACION ID_REGISTRO  ORIGEN  SECTOR  ENTIDAD_UM  SEXO  \\\n",
       "0          2020-08-11      1a62a3       2       3          15     1   \n",
       "1          2020-08-11      1491cc       2       3          27     1   \n",
       "2          2020-08-11      12bed1       2       3          15     1   \n",
       "3          2020-08-11      117245       2       3          25     2   \n",
       "4          2020-08-11      117cf6       2       3          27     1   \n",
       "\n",
       "   ENTIDAD_NAC  ENTIDAD_RES  MUNICIPIO_RES  TIPO_PACIENTE  ... CARDIOVASCULAR  \\\n",
       "0           15           15              2              1  ...              2   \n",
       "1           27           27              4              1  ...              2   \n",
       "2           15           15            106              1  ...              2   \n",
       "3           26           25              6              1  ...              2   \n",
       "4           27           27             13              2  ...              2   \n",
       "\n",
       "  OBESIDAD RENAL_CRONICA  TABAQUISMO  OTRO_CASO  RESULTADO  MIGRANTE  \\\n",
       "0        2             2           2          1          1        99   \n",
       "1        2             2           2          1          1        99   \n",
       "2        2             2           2         99          1        99   \n",
       "3        2             2           2         99          1        99   \n",
       "4        2             2           2          2          1        99   \n",
       "\n",
       "   PAIS_NACIONALIDAD  PAIS_ORIGEN  UCI  \n",
       "0             México           99   97  \n",
       "1             México           99   97  \n",
       "2             México           99   97  \n",
       "3             México           99   97  \n",
       "4             México           99    2  \n",
       "\n",
       "[5 rows x 35 columns]"
      ]
     },
     "execution_count": 7,
     "metadata": {},
     "output_type": "execute_result"
    }
   ],
   "source": [
    "print(cases_df.shape)\n",
    "print(cases_df.columns)\n",
    "cases_df.head()"
   ]
  },
  {
   "cell_type": "markdown",
   "metadata": {},
   "source": [
    "#### Data dictionary"
   ]
  },
  {
   "cell_type": "code",
   "execution_count": 8,
   "metadata": {},
   "outputs": [
    {
     "data": {
      "text/plain": [
       "True"
      ]
     },
     "execution_count": 8,
     "metadata": {},
     "output_type": "execute_result"
    }
   ],
   "source": [
    "catalogs_file = mexican_government_data_dir.joinpath(\"data_dictionary\", \"diccionario_datos_covid19/Catalogos_0412.xlsx\")\n",
    "catalogs_file.exists()"
   ]
  },
  {
   "cell_type": "code",
   "execution_count": 9,
   "metadata": {
    "tags": []
   },
   "outputs": [
    {
     "name": "stdout",
     "output_type": "stream",
     "text": [
      "dict_keys(['Catálogo ORIGEN', 'Catálogo SECTOR', 'Catálogo SEXO', 'Catálogo TIPO_PACIENTE', 'Catálogo SI_NO', 'Catálogo NACIONALIDAD', 'Catálogo RESULTADO', 'Catálogo de ENTIDADES', 'Catálogo MUNICIPIOS'])\n"
     ]
    },
    {
     "data": {
      "text/html": [
       "<div>\n",
       "<style scoped>\n",
       "    .dataframe tbody tr th:only-of-type {\n",
       "        vertical-align: middle;\n",
       "    }\n",
       "\n",
       "    .dataframe tbody tr th {\n",
       "        vertical-align: top;\n",
       "    }\n",
       "\n",
       "    .dataframe thead th {\n",
       "        text-align: right;\n",
       "    }\n",
       "</style>\n",
       "<table border=\"1\" class=\"dataframe\">\n",
       "  <thead>\n",
       "    <tr style=\"text-align: right;\">\n",
       "      <th></th>\n",
       "      <th>CLAVE</th>\n",
       "      <th>DESCRIPCIÓN</th>\n",
       "    </tr>\n",
       "  </thead>\n",
       "  <tbody>\n",
       "    <tr>\n",
       "      <th>0</th>\n",
       "      <td>1</td>\n",
       "      <td>CRUZ ROJA</td>\n",
       "    </tr>\n",
       "    <tr>\n",
       "      <th>1</th>\n",
       "      <td>2</td>\n",
       "      <td>DIF</td>\n",
       "    </tr>\n",
       "    <tr>\n",
       "      <th>2</th>\n",
       "      <td>3</td>\n",
       "      <td>ESTATAL</td>\n",
       "    </tr>\n",
       "    <tr>\n",
       "      <th>3</th>\n",
       "      <td>4</td>\n",
       "      <td>IMSS</td>\n",
       "    </tr>\n",
       "    <tr>\n",
       "      <th>4</th>\n",
       "      <td>5</td>\n",
       "      <td>IMSS-BIENESTAR</td>\n",
       "    </tr>\n",
       "  </tbody>\n",
       "</table>\n",
       "</div>"
      ],
      "text/plain": [
       "   CLAVE     DESCRIPCIÓN\n",
       "0      1       CRUZ ROJA\n",
       "1      2             DIF\n",
       "2      3         ESTATAL\n",
       "3      4            IMSS\n",
       "4      5  IMSS-BIENESTAR"
      ]
     },
     "execution_count": 9,
     "metadata": {},
     "output_type": "execute_result"
    }
   ],
   "source": [
    "catalogs_dfs = pd.read_excel(io=catalogs_file, sheet_name=None)\n",
    "print(catalogs_dfs.keys())\n",
    "catalogs_dfs[\"Catálogo SECTOR\"].head()"
   ]
  },
  {
   "cell_type": "markdown",
   "metadata": {},
   "source": [
    "### Geospatial"
   ]
  },
  {
   "cell_type": "code",
   "execution_count": 10,
   "metadata": {},
   "outputs": [
    {
     "data": {
      "text/plain": [
       "True"
      ]
     },
     "execution_count": 10,
     "metadata": {},
     "output_type": "execute_result"
    }
   ],
   "source": [
    "geospatial_dir = datadir(\"external\", \"geospatial\")\n",
    "geospatial_dir.exists()"
   ]
  },
  {
   "cell_type": "markdown",
   "metadata": {},
   "source": [
    "#### Geometries"
   ]
  },
  {
   "cell_type": "code",
   "execution_count": 11,
   "metadata": {},
   "outputs": [],
   "source": [
    "geometries_dir = geospatial_dir.joinpath(\"mg_sep2019_integrado\", \"conjunto_de_datos\")"
   ]
  },
  {
   "cell_type": "markdown",
   "metadata": {},
   "source": [
    "##### States"
   ]
  },
  {
   "cell_type": "code",
   "execution_count": 12,
   "metadata": {
    "tags": []
   },
   "outputs": [
    {
     "data": {
      "text/html": [
       "<div>\n",
       "<style scoped>\n",
       "    .dataframe tbody tr th:only-of-type {\n",
       "        vertical-align: middle;\n",
       "    }\n",
       "\n",
       "    .dataframe tbody tr th {\n",
       "        vertical-align: top;\n",
       "    }\n",
       "\n",
       "    .dataframe thead th {\n",
       "        text-align: right;\n",
       "    }\n",
       "</style>\n",
       "<table border=\"1\" class=\"dataframe\">\n",
       "  <thead>\n",
       "    <tr style=\"text-align: right;\">\n",
       "      <th></th>\n",
       "      <th>CVEGEO</th>\n",
       "      <th>CVE_ENT</th>\n",
       "      <th>NOMGEO</th>\n",
       "      <th>geometry</th>\n",
       "    </tr>\n",
       "  </thead>\n",
       "  <tbody>\n",
       "    <tr>\n",
       "      <th>0</th>\n",
       "      <td>01</td>\n",
       "      <td>01</td>\n",
       "      <td>Aguascalientes</td>\n",
       "      <td>POLYGON ((2470517.824 1155028.588, 2470552.248...</td>\n",
       "    </tr>\n",
       "    <tr>\n",
       "      <th>1</th>\n",
       "      <td>02</td>\n",
       "      <td>02</td>\n",
       "      <td>Baja California</td>\n",
       "      <td>MULTIPOLYGON (((1493197.166 1849625.247, 14934...</td>\n",
       "    </tr>\n",
       "    <tr>\n",
       "      <th>2</th>\n",
       "      <td>03</td>\n",
       "      <td>03</td>\n",
       "      <td>Baja California Sur</td>\n",
       "      <td>MULTIPOLYGON (((1694656.344 1227647.637, 16946...</td>\n",
       "    </tr>\n",
       "    <tr>\n",
       "      <th>3</th>\n",
       "      <td>04</td>\n",
       "      <td>04</td>\n",
       "      <td>Campeche</td>\n",
       "      <td>MULTIPOLYGON (((3544897.199 946994.621, 354491...</td>\n",
       "    </tr>\n",
       "    <tr>\n",
       "      <th>4</th>\n",
       "      <td>05</td>\n",
       "      <td>05</td>\n",
       "      <td>Coahuila de Zaragoza</td>\n",
       "      <td>POLYGON ((2469954.193 1978522.993, 2469982.807...</td>\n",
       "    </tr>\n",
       "  </tbody>\n",
       "</table>\n",
       "</div>"
      ],
      "text/plain": [
       "  CVEGEO CVE_ENT                NOMGEO  \\\n",
       "0     01      01        Aguascalientes   \n",
       "1     02      02       Baja California   \n",
       "2     03      03   Baja California Sur   \n",
       "3     04      04              Campeche   \n",
       "4     05      05  Coahuila de Zaragoza   \n",
       "\n",
       "                                            geometry  \n",
       "0  POLYGON ((2470517.824 1155028.588, 2470552.248...  \n",
       "1  MULTIPOLYGON (((1493197.166 1849625.247, 14934...  \n",
       "2  MULTIPOLYGON (((1694656.344 1227647.637, 16946...  \n",
       "3  MULTIPOLYGON (((3544897.199 946994.621, 354491...  \n",
       "4  POLYGON ((2469954.193 1978522.993, 2469982.807...  "
      ]
     },
     "execution_count": 12,
     "metadata": {},
     "output_type": "execute_result"
    }
   ],
   "source": [
    "ent_file = geometries_dir.joinpath(\"00ent.shp\")\n",
    "gdf_ent = gpd.read_file(filename=ent_file)\n",
    "gdf_ent.head()"
   ]
  },
  {
   "cell_type": "code",
   "execution_count": 13,
   "metadata": {},
   "outputs": [
    {
     "data": {
      "image/png": "[encoded data removed]",
      "text/plain": [
       "<Figure size 432x288 with 1 Axes>"
      ]
     },
     "metadata": {
      "needs_background": "light"
     },
     "output_type": "display_data"
    }
   ],
   "source": [
    "ax = gdf_ent.plot(column=\"CVE_ENT\")\n",
    "ax.set_axis_off()"
   ]
  },
  {
   "cell_type": "markdown",
   "metadata": {},
   "source": [
    "##### Municipalities"
   ]
  },
  {
   "cell_type": "code",
   "execution_count": 14,
   "metadata": {},
   "outputs": [
    {
     "data": {
      "text/html": [
       "<div>\n",
       "<style scoped>\n",
       "    .dataframe tbody tr th:only-of-type {\n",
       "        vertical-align: middle;\n",
       "    }\n",
       "\n",
       "    .dataframe tbody tr th {\n",
       "        vertical-align: top;\n",
       "    }\n",
       "\n",
       "    .dataframe thead th {\n",
       "        text-align: right;\n",
       "    }\n",
       "</style>\n",
       "<table border=\"1\" class=\"dataframe\">\n",
       "  <thead>\n",
       "    <tr style=\"text-align: right;\">\n",
       "      <th></th>\n",
       "      <th>CVEGEO</th>\n",
       "      <th>CVE_ENT</th>\n",
       "      <th>CVE_MUN</th>\n",
       "      <th>NOMGEO</th>\n",
       "      <th>geometry</th>\n",
       "    </tr>\n",
       "  </thead>\n",
       "  <tbody>\n",
       "    <tr>\n",
       "      <th>0</th>\n",
       "      <td>01001</td>\n",
       "      <td>01</td>\n",
       "      <td>001</td>\n",
       "      <td>Aguascalientes</td>\n",
       "      <td>POLYGON ((2489072.503 1115771.584, 2489352.774...</td>\n",
       "    </tr>\n",
       "    <tr>\n",
       "      <th>1</th>\n",
       "      <td>01002</td>\n",
       "      <td>01</td>\n",
       "      <td>002</td>\n",
       "      <td>Asientos</td>\n",
       "      <td>POLYGON ((2494680.261 1141224.505, 2494749.948...</td>\n",
       "    </tr>\n",
       "    <tr>\n",
       "      <th>2</th>\n",
       "      <td>01003</td>\n",
       "      <td>01</td>\n",
       "      <td>003</td>\n",
       "      <td>Calvillo</td>\n",
       "      <td>POLYGON ((2429607.454 1120262.254, 2429071.902...</td>\n",
       "    </tr>\n",
       "    <tr>\n",
       "      <th>3</th>\n",
       "      <td>01004</td>\n",
       "      <td>01</td>\n",
       "      <td>004</td>\n",
       "      <td>Cosío</td>\n",
       "      <td>POLYGON ((2470517.824 1155028.588, 2470552.248...</td>\n",
       "    </tr>\n",
       "    <tr>\n",
       "      <th>4</th>\n",
       "      <td>01005</td>\n",
       "      <td>01</td>\n",
       "      <td>005</td>\n",
       "      <td>Jesús María</td>\n",
       "      <td>POLYGON ((2465526.729 1114740.466, 2465752.546...</td>\n",
       "    </tr>\n",
       "  </tbody>\n",
       "</table>\n",
       "</div>"
      ],
      "text/plain": [
       "  CVEGEO CVE_ENT CVE_MUN          NOMGEO  \\\n",
       "0  01001      01     001  Aguascalientes   \n",
       "1  01002      01     002        Asientos   \n",
       "2  01003      01     003        Calvillo   \n",
       "3  01004      01     004           Cosío   \n",
       "4  01005      01     005     Jesús María   \n",
       "\n",
       "                                            geometry  \n",
       "0  POLYGON ((2489072.503 1115771.584, 2489352.774...  \n",
       "1  POLYGON ((2494680.261 1141224.505, 2494749.948...  \n",
       "2  POLYGON ((2429607.454 1120262.254, 2429071.902...  \n",
       "3  POLYGON ((2470517.824 1155028.588, 2470552.248...  \n",
       "4  POLYGON ((2465526.729 1114740.466, 2465752.546...  "
      ]
     },
     "execution_count": 14,
     "metadata": {},
     "output_type": "execute_result"
    }
   ],
   "source": [
    "mun_file = geometries_dir.joinpath(\"00mun.shp\")\n",
    "gdf_mun = gpd.read_file(filename=mun_file)\n",
    "gdf_mun.head()"
   ]
  },
  {
   "cell_type": "code",
   "execution_count": 15,
   "metadata": {},
   "outputs": [
    {
     "data": {
      "image/png": "[encoded data removed]",
      "text/plain": [
       "<Figure size 432x288 with 1 Axes>"
      ]
     },
     "metadata": {
      "needs_background": "light"
     },
     "output_type": "display_data"
    }
   ],
   "source": [
    "ax = gdf_mun.plot(column=\"CVE_ENT\")\n",
    "ax.set_axis_off()"
   ]
  },
  {
   "cell_type": "markdown",
   "metadata": {},
   "source": [
    "#### Size of population information"
   ]
  },
  {
   "cell_type": "code",
   "execution_count": 16,
   "metadata": {},
   "outputs": [
    {
     "data": {
      "text/plain": [
       "True"
      ]
     },
     "execution_count": 16,
     "metadata": {},
     "output_type": "execute_result"
    }
   ],
   "source": [
    "population_file = geospatial_dir.joinpath(\"AGEEML_20208112019805.csv\")\n",
    "population_file.exists()"
   ]
  },
  {
   "cell_type": "code",
   "execution_count": 17,
   "metadata": {},
   "outputs": [
    {
     "name": "stdout",
     "output_type": "stream",
     "text": [
      "(300679, 4)\n"
     ]
    },
    {
     "data": {
      "text/html": [
       "<div>\n",
       "<style scoped>\n",
       "    .dataframe tbody tr th:only-of-type {\n",
       "        vertical-align: middle;\n",
       "    }\n",
       "\n",
       "    .dataframe tbody tr th {\n",
       "        vertical-align: top;\n",
       "    }\n",
       "\n",
       "    .dataframe thead th {\n",
       "        text-align: right;\n",
       "    }\n",
       "</style>\n",
       "<table border=\"1\" class=\"dataframe\">\n",
       "  <thead>\n",
       "    <tr style=\"text-align: right;\">\n",
       "      <th></th>\n",
       "      <th>Cve_Ent</th>\n",
       "      <th>Cve_Mun</th>\n",
       "      <th>Pob_Total</th>\n",
       "      <th>Total De Viviendas Habitadas</th>\n",
       "    </tr>\n",
       "  </thead>\n",
       "  <tbody>\n",
       "    <tr>\n",
       "      <th>0</th>\n",
       "      <td>1</td>\n",
       "      <td>1</td>\n",
       "      <td>722250.0</td>\n",
       "      <td>185120.0</td>\n",
       "    </tr>\n",
       "    <tr>\n",
       "      <th>1</th>\n",
       "      <td>1</td>\n",
       "      <td>1</td>\n",
       "      <td>14.0</td>\n",
       "      <td>2.0</td>\n",
       "    </tr>\n",
       "    <tr>\n",
       "      <th>2</th>\n",
       "      <td>1</td>\n",
       "      <td>1</td>\n",
       "      <td>37.0</td>\n",
       "      <td>11.0</td>\n",
       "    </tr>\n",
       "    <tr>\n",
       "      <th>3</th>\n",
       "      <td>1</td>\n",
       "      <td>1</td>\n",
       "      <td>10.0</td>\n",
       "      <td>1.0</td>\n",
       "    </tr>\n",
       "    <tr>\n",
       "      <th>4</th>\n",
       "      <td>1</td>\n",
       "      <td>1</td>\n",
       "      <td>7.0</td>\n",
       "      <td>1.0</td>\n",
       "    </tr>\n",
       "  </tbody>\n",
       "</table>\n",
       "</div>"
      ],
      "text/plain": [
       "   Cve_Ent  Cve_Mun  Pob_Total  Total De Viviendas Habitadas\n",
       "0        1        1   722250.0                      185120.0\n",
       "1        1        1       14.0                           2.0\n",
       "2        1        1       37.0                          11.0\n",
       "3        1        1       10.0                           1.0\n",
       "4        1        1        7.0                           1.0"
      ]
     },
     "execution_count": 17,
     "metadata": {},
     "output_type": "execute_result"
    }
   ],
   "source": [
    "population_df = pd.read_csv(population_file, usecols = [\"Cve_Ent\", \"Cve_Mun\", \"Pob_Total\", \"Total De Viviendas Habitadas\"], na_values=\"-\")\n",
    "print(population_df.shape)\n",
    "population_df.head()"
   ]
  },
  {
   "cell_type": "markdown",
   "metadata": {},
   "source": [
    "## Preprocessing"
   ]
  },
  {
   "cell_type": "markdown",
   "metadata": {},
   "source": [
    "### Mexican government"
   ]
  },
  {
   "cell_type": "markdown",
   "metadata": {},
   "source": [
    "#### Fix column names"
   ]
  },
  {
   "cell_type": "code",
   "execution_count": 18,
   "metadata": {},
   "outputs": [
    {
     "data": {
      "text/plain": [
       "Index(['fecha_actualizacion', 'id_registro', 'origen', 'sector', 'entidad_um',\n",
       "       'sexo', 'entidad_nac', 'entidad_res', 'municipio_res', 'tipo_paciente',\n",
       "       'fecha_ingreso', 'fecha_sintomas', 'fecha_def', 'intubado', 'neumonia',\n",
       "       'edad', 'nacionalidad', 'embarazo', 'habla_lengua_indig', 'diabetes',\n",
       "       'epoc', 'asma', 'inmusupr', 'hipertension', 'otra_com',\n",
       "       'cardiovascular', 'obesidad', 'renal_cronica', 'tabaquismo',\n",
       "       'otro_caso', 'resultado', 'migrante', 'pais_nacionalidad',\n",
       "       'pais_origen', 'uci'],\n",
       "      dtype='object')"
      ]
     },
     "execution_count": 18,
     "metadata": {},
     "output_type": "execute_result"
    }
   ],
   "source": [
    "cases_df.columns = (\n",
    "    cases_df.columns.\n",
    "    str.strip().\n",
    "    str.lower().\n",
    "    to_series().\n",
    "    replace(to_replace={\n",
    "        ' ': '_',\n",
    "        '/': '_',\n",
    "        '(': '',\n",
    "        ')': ''\n",
    "        }   \n",
    "    )\n",
    ")\n",
    "cases_df.columns"
   ]
  },
  {
   "cell_type": "code",
   "execution_count": 19,
   "metadata": {},
   "outputs": [
    {
     "data": {
      "text/plain": [
       "dict_keys(['origen', 'sector', 'sexo', 'tipo_paciente', 'si_no', 'nacionalidad', 'resultado', 'entidades', 'municipios'])"
      ]
     },
     "execution_count": 19,
     "metadata": {},
     "output_type": "execute_result"
    }
   ],
   "source": [
    "catalogs_dicts = {key.replace(\"Catálogo \", \"\").replace(\"de \", \"\").lower(): df.set_index(df.columns[0]).to_dict() for key, df in catalogs_dfs.items()}\n",
    "catalogs_dicts.keys()"
   ]
  },
  {
   "cell_type": "code",
   "execution_count": 20,
   "metadata": {
    "tags": []
   },
   "outputs": [
    {
     "name": "stdout",
     "output_type": "stream",
     "text": [
      "{'Unnamed: 1': {'CLAVE': 'DESCRIPCIÓN', 1: 'Positivo SARS-CoV-2', 2: 'No positivo SARS-CoV-2', 3: 'Resultado pendiente'}}\n"
     ]
    }
   ],
   "source": [
    "print(catalogs_dicts[\"resultado\"])\n",
    "del catalogs_dicts[\"resultado\"][\"Unnamed: 1\"][\"CLAVE\"]"
   ]
  },
  {
   "cell_type": "markdown",
   "metadata": {},
   "source": [
    "#### Replace original data with more human-readable descriptions"
   ]
  },
  {
   "cell_type": "code",
   "execution_count": 21,
   "metadata": {},
   "outputs": [],
   "source": [
    "si_no_labels = (\n",
    "    'intubado', 'neumonia', 'embarazo',\n",
    "    'habla_lengua_indig','diabetes', 'epoc',\n",
    "    'asma', 'inmusupr', 'hipertension',\n",
    "    'otra_com', 'cardiovascular', 'obesidad',\n",
    "    'renal_cronica', 'tabaquismo', 'otro_caso',\n",
    "    'migrante', 'uci'\n",
    ")"
   ]
  },
  {
   "cell_type": "code",
   "execution_count": 22,
   "metadata": {
    "tags": []
   },
   "outputs": [],
   "source": [
    "# (cases_df_keys): catalogs_dicts{item} to replace.\n",
    "replacement_keys = {\n",
    "    ('origen',): catalogs_dicts[\"origen\"].get(\"DESCRIPCIÓN\"),\n",
    "    ('sector',): catalogs_dicts[\"sector\"].get(\"DESCRIPCIÓN\"),\n",
    "    ('sexo',): catalogs_dicts[\"sexo\"].get(\"DESCRIPCIÓN\"),\n",
    "    ('tipo_paciente',): catalogs_dicts[\"tipo_paciente\"].get(\"DESCRIPCIÓN\"),\n",
    "    (\"nacionalidad\", ): catalogs_dicts[\"nacionalidad\"].get(\"DESCRIPCIÓN\"),\n",
    "    (\"pais_nacionalidad\", \"pais_origen\"): {\"99\": \"SE IGNORA\", \"97\": \"NO APLICA\"},\n",
    "    (\"resultado\",): catalogs_dicts[\"resultado\"].get(\"Unnamed: 1\"),\n",
    "    si_no_labels: catalogs_dicts[\"si_no\"].get(\"DESCRIPCIÓN\")\n",
    "}"
   ]
  },
  {
   "cell_type": "code",
   "execution_count": 23,
   "metadata": {},
   "outputs": [
    {
     "data": {
      "text/html": [
       "<div>\n",
       "<style scoped>\n",
       "    .dataframe tbody tr th:only-of-type {\n",
       "        vertical-align: middle;\n",
       "    }\n",
       "\n",
       "    .dataframe tbody tr th {\n",
       "        vertical-align: top;\n",
       "    }\n",
       "\n",
       "    .dataframe thead th {\n",
       "        text-align: right;\n",
       "    }\n",
       "</style>\n",
       "<table border=\"1\" class=\"dataframe\">\n",
       "  <thead>\n",
       "    <tr style=\"text-align: right;\">\n",
       "      <th></th>\n",
       "      <th>fecha_actualizacion</th>\n",
       "      <th>id_registro</th>\n",
       "      <th>origen</th>\n",
       "      <th>sector</th>\n",
       "      <th>entidad_um</th>\n",
       "      <th>sexo</th>\n",
       "      <th>entidad_nac</th>\n",
       "      <th>entidad_res</th>\n",
       "      <th>municipio_res</th>\n",
       "      <th>tipo_paciente</th>\n",
       "      <th>...</th>\n",
       "      <th>cardiovascular</th>\n",
       "      <th>obesidad</th>\n",
       "      <th>renal_cronica</th>\n",
       "      <th>tabaquismo</th>\n",
       "      <th>otro_caso</th>\n",
       "      <th>resultado</th>\n",
       "      <th>migrante</th>\n",
       "      <th>pais_nacionalidad</th>\n",
       "      <th>pais_origen</th>\n",
       "      <th>uci</th>\n",
       "    </tr>\n",
       "  </thead>\n",
       "  <tbody>\n",
       "    <tr>\n",
       "      <th>0</th>\n",
       "      <td>2020-08-11</td>\n",
       "      <td>1a62a3</td>\n",
       "      <td>FUERA DE USMER</td>\n",
       "      <td>ESTATAL</td>\n",
       "      <td>15</td>\n",
       "      <td>MUJER</td>\n",
       "      <td>15</td>\n",
       "      <td>15</td>\n",
       "      <td>2</td>\n",
       "      <td>AMBULATORIO</td>\n",
       "      <td>...</td>\n",
       "      <td>NO</td>\n",
       "      <td>NO</td>\n",
       "      <td>NO</td>\n",
       "      <td>NO</td>\n",
       "      <td>SI</td>\n",
       "      <td>Positivo SARS-CoV-2</td>\n",
       "      <td>NO ESPECIFICADO</td>\n",
       "      <td>México</td>\n",
       "      <td>SE IGNORA</td>\n",
       "      <td>NO APLICA</td>\n",
       "    </tr>\n",
       "    <tr>\n",
       "      <th>1</th>\n",
       "      <td>2020-08-11</td>\n",
       "      <td>1491cc</td>\n",
       "      <td>FUERA DE USMER</td>\n",
       "      <td>ESTATAL</td>\n",
       "      <td>27</td>\n",
       "      <td>MUJER</td>\n",
       "      <td>27</td>\n",
       "      <td>27</td>\n",
       "      <td>4</td>\n",
       "      <td>AMBULATORIO</td>\n",
       "      <td>...</td>\n",
       "      <td>NO</td>\n",
       "      <td>NO</td>\n",
       "      <td>NO</td>\n",
       "      <td>NO</td>\n",
       "      <td>SI</td>\n",
       "      <td>Positivo SARS-CoV-2</td>\n",
       "      <td>NO ESPECIFICADO</td>\n",
       "      <td>México</td>\n",
       "      <td>SE IGNORA</td>\n",
       "      <td>NO APLICA</td>\n",
       "    </tr>\n",
       "    <tr>\n",
       "      <th>2</th>\n",
       "      <td>2020-08-11</td>\n",
       "      <td>12bed1</td>\n",
       "      <td>FUERA DE USMER</td>\n",
       "      <td>ESTATAL</td>\n",
       "      <td>15</td>\n",
       "      <td>MUJER</td>\n",
       "      <td>15</td>\n",
       "      <td>15</td>\n",
       "      <td>106</td>\n",
       "      <td>AMBULATORIO</td>\n",
       "      <td>...</td>\n",
       "      <td>NO</td>\n",
       "      <td>NO</td>\n",
       "      <td>NO</td>\n",
       "      <td>NO</td>\n",
       "      <td>NO ESPECIFICADO</td>\n",
       "      <td>Positivo SARS-CoV-2</td>\n",
       "      <td>NO ESPECIFICADO</td>\n",
       "      <td>México</td>\n",
       "      <td>SE IGNORA</td>\n",
       "      <td>NO APLICA</td>\n",
       "    </tr>\n",
       "    <tr>\n",
       "      <th>3</th>\n",
       "      <td>2020-08-11</td>\n",
       "      <td>117245</td>\n",
       "      <td>FUERA DE USMER</td>\n",
       "      <td>ESTATAL</td>\n",
       "      <td>25</td>\n",
       "      <td>HOMBRE</td>\n",
       "      <td>26</td>\n",
       "      <td>25</td>\n",
       "      <td>6</td>\n",
       "      <td>AMBULATORIO</td>\n",
       "      <td>...</td>\n",
       "      <td>NO</td>\n",
       "      <td>NO</td>\n",
       "      <td>NO</td>\n",
       "      <td>NO</td>\n",
       "      <td>NO ESPECIFICADO</td>\n",
       "      <td>Positivo SARS-CoV-2</td>\n",
       "      <td>NO ESPECIFICADO</td>\n",
       "      <td>México</td>\n",
       "      <td>SE IGNORA</td>\n",
       "      <td>NO APLICA</td>\n",
       "    </tr>\n",
       "    <tr>\n",
       "      <th>4</th>\n",
       "      <td>2020-08-11</td>\n",
       "      <td>117cf6</td>\n",
       "      <td>FUERA DE USMER</td>\n",
       "      <td>ESTATAL</td>\n",
       "      <td>27</td>\n",
       "      <td>MUJER</td>\n",
       "      <td>27</td>\n",
       "      <td>27</td>\n",
       "      <td>13</td>\n",
       "      <td>HOSPITALIZADO</td>\n",
       "      <td>...</td>\n",
       "      <td>NO</td>\n",
       "      <td>NO</td>\n",
       "      <td>NO</td>\n",
       "      <td>NO</td>\n",
       "      <td>NO</td>\n",
       "      <td>Positivo SARS-CoV-2</td>\n",
       "      <td>NO ESPECIFICADO</td>\n",
       "      <td>México</td>\n",
       "      <td>SE IGNORA</td>\n",
       "      <td>NO</td>\n",
       "    </tr>\n",
       "  </tbody>\n",
       "</table>\n",
       "<p>5 rows × 35 columns</p>\n",
       "</div>"
      ],
      "text/plain": [
       "  fecha_actualizacion id_registro          origen   sector  entidad_um  \\\n",
       "0          2020-08-11      1a62a3  FUERA DE USMER  ESTATAL          15   \n",
       "1          2020-08-11      1491cc  FUERA DE USMER  ESTATAL          27   \n",
       "2          2020-08-11      12bed1  FUERA DE USMER  ESTATAL          15   \n",
       "3          2020-08-11      117245  FUERA DE USMER  ESTATAL          25   \n",
       "4          2020-08-11      117cf6  FUERA DE USMER  ESTATAL          27   \n",
       "\n",
       "     sexo  entidad_nac  entidad_res  municipio_res  tipo_paciente  ...  \\\n",
       "0   MUJER           15           15              2    AMBULATORIO  ...   \n",
       "1   MUJER           27           27              4    AMBULATORIO  ...   \n",
       "2   MUJER           15           15            106    AMBULATORIO  ...   \n",
       "3  HOMBRE           26           25              6    AMBULATORIO  ...   \n",
       "4   MUJER           27           27             13  HOSPITALIZADO  ...   \n",
       "\n",
       "  cardiovascular obesidad renal_cronica tabaquismo        otro_caso  \\\n",
       "0            NO       NO            NO         NO               SI    \n",
       "1            NO       NO            NO         NO               SI    \n",
       "2            NO       NO            NO         NO   NO ESPECIFICADO   \n",
       "3            NO       NO            NO         NO   NO ESPECIFICADO   \n",
       "4            NO       NO            NO         NO               NO    \n",
       "\n",
       "             resultado         migrante pais_nacionalidad pais_origen  \\\n",
       "0  Positivo SARS-CoV-2  NO ESPECIFICADO            México   SE IGNORA   \n",
       "1  Positivo SARS-CoV-2  NO ESPECIFICADO            México   SE IGNORA   \n",
       "2  Positivo SARS-CoV-2  NO ESPECIFICADO            México   SE IGNORA   \n",
       "3  Positivo SARS-CoV-2  NO ESPECIFICADO            México   SE IGNORA   \n",
       "4  Positivo SARS-CoV-2  NO ESPECIFICADO            México   SE IGNORA   \n",
       "\n",
       "         uci  \n",
       "0  NO APLICA  \n",
       "1  NO APLICA  \n",
       "2  NO APLICA  \n",
       "3  NO APLICA  \n",
       "4        NO   \n",
       "\n",
       "[5 rows x 35 columns]"
      ]
     },
     "execution_count": 23,
     "metadata": {},
     "output_type": "execute_result"
    }
   ],
   "source": [
    "for cases_columns, replacement in replacement_keys.items():\n",
    "    \n",
    "    for case_column in cases_columns:\n",
    "        cases_df[case_column].replace(to_replace=replacement, inplace=True)\n",
    "        \n",
    "cases_df.head()"
   ]
  },
  {
   "cell_type": "code",
   "execution_count": 24,
   "metadata": {},
   "outputs": [
    {
     "data": {
      "text/plain": [
       "Index(['id_registro', 'origen', 'sexo', 'tipo_paciente', 'intubado',\n",
       "       'neumonia', 'nacionalidad', 'embarazo', 'habla_lengua_indig',\n",
       "       'diabetes', 'epoc', 'asma', 'inmusupr', 'hipertension', 'otra_com',\n",
       "       'cardiovascular', 'obesidad', 'renal_cronica', 'tabaquismo',\n",
       "       'otro_caso', 'resultado', 'migrante', 'pais_nacionalidad',\n",
       "       'pais_origen', 'uci'],\n",
       "      dtype='object')"
      ]
     },
     "execution_count": 24,
     "metadata": {},
     "output_type": "execute_result"
    }
   ],
   "source": [
    "type_mask = cases_df.columns[cases_df.dtypes == object].drop(labels=\"sector\")\n",
    "type_mask"
   ]
  },
  {
   "cell_type": "code",
   "execution_count": 25,
   "metadata": {},
   "outputs": [],
   "source": [
    "cases_df[type_mask] = (\n",
    "    cases_df[type_mask].\n",
    "    apply(lambda x: x.str.capitalize())\n",
    ")"
   ]
  },
  {
   "cell_type": "code",
   "execution_count": 26,
   "metadata": {},
   "outputs": [
    {
     "data": {
      "text/html": [
       "<div>\n",
       "<style scoped>\n",
       "    .dataframe tbody tr th:only-of-type {\n",
       "        vertical-align: middle;\n",
       "    }\n",
       "\n",
       "    .dataframe tbody tr th {\n",
       "        vertical-align: top;\n",
       "    }\n",
       "\n",
       "    .dataframe thead th {\n",
       "        text-align: right;\n",
       "    }\n",
       "</style>\n",
       "<table border=\"1\" class=\"dataframe\">\n",
       "  <thead>\n",
       "    <tr style=\"text-align: right;\">\n",
       "      <th></th>\n",
       "      <th>fecha_actualizacion</th>\n",
       "      <th>id_registro</th>\n",
       "      <th>origen</th>\n",
       "      <th>sector</th>\n",
       "      <th>entidad_um</th>\n",
       "      <th>sexo</th>\n",
       "      <th>entidad_nac</th>\n",
       "      <th>entidad_res</th>\n",
       "      <th>municipio_res</th>\n",
       "      <th>tipo_paciente</th>\n",
       "      <th>...</th>\n",
       "      <th>cardiovascular</th>\n",
       "      <th>obesidad</th>\n",
       "      <th>renal_cronica</th>\n",
       "      <th>tabaquismo</th>\n",
       "      <th>otro_caso</th>\n",
       "      <th>resultado</th>\n",
       "      <th>migrante</th>\n",
       "      <th>pais_nacionalidad</th>\n",
       "      <th>pais_origen</th>\n",
       "      <th>uci</th>\n",
       "    </tr>\n",
       "  </thead>\n",
       "  <tbody>\n",
       "    <tr>\n",
       "      <th>0</th>\n",
       "      <td>2020-08-11</td>\n",
       "      <td>1a62a3</td>\n",
       "      <td>Fuera de usmer</td>\n",
       "      <td>Estatal</td>\n",
       "      <td>15</td>\n",
       "      <td>Mujer</td>\n",
       "      <td>15</td>\n",
       "      <td>15</td>\n",
       "      <td>2</td>\n",
       "      <td>Ambulatorio</td>\n",
       "      <td>...</td>\n",
       "      <td>No</td>\n",
       "      <td>No</td>\n",
       "      <td>No</td>\n",
       "      <td>No</td>\n",
       "      <td>Si</td>\n",
       "      <td>Positivo</td>\n",
       "      <td>No especificado</td>\n",
       "      <td>México</td>\n",
       "      <td>Se ignora</td>\n",
       "      <td>No aplica</td>\n",
       "    </tr>\n",
       "    <tr>\n",
       "      <th>1</th>\n",
       "      <td>2020-08-11</td>\n",
       "      <td>1491cc</td>\n",
       "      <td>Fuera de usmer</td>\n",
       "      <td>Estatal</td>\n",
       "      <td>27</td>\n",
       "      <td>Mujer</td>\n",
       "      <td>27</td>\n",
       "      <td>27</td>\n",
       "      <td>4</td>\n",
       "      <td>Ambulatorio</td>\n",
       "      <td>...</td>\n",
       "      <td>No</td>\n",
       "      <td>No</td>\n",
       "      <td>No</td>\n",
       "      <td>No</td>\n",
       "      <td>Si</td>\n",
       "      <td>Positivo</td>\n",
       "      <td>No especificado</td>\n",
       "      <td>México</td>\n",
       "      <td>Se ignora</td>\n",
       "      <td>No aplica</td>\n",
       "    </tr>\n",
       "    <tr>\n",
       "      <th>2</th>\n",
       "      <td>2020-08-11</td>\n",
       "      <td>12bed1</td>\n",
       "      <td>Fuera de usmer</td>\n",
       "      <td>Estatal</td>\n",
       "      <td>15</td>\n",
       "      <td>Mujer</td>\n",
       "      <td>15</td>\n",
       "      <td>15</td>\n",
       "      <td>106</td>\n",
       "      <td>Ambulatorio</td>\n",
       "      <td>...</td>\n",
       "      <td>No</td>\n",
       "      <td>No</td>\n",
       "      <td>No</td>\n",
       "      <td>No</td>\n",
       "      <td>No especificado</td>\n",
       "      <td>Positivo</td>\n",
       "      <td>No especificado</td>\n",
       "      <td>México</td>\n",
       "      <td>Se ignora</td>\n",
       "      <td>No aplica</td>\n",
       "    </tr>\n",
       "    <tr>\n",
       "      <th>3</th>\n",
       "      <td>2020-08-11</td>\n",
       "      <td>117245</td>\n",
       "      <td>Fuera de usmer</td>\n",
       "      <td>Estatal</td>\n",
       "      <td>25</td>\n",
       "      <td>Hombre</td>\n",
       "      <td>26</td>\n",
       "      <td>25</td>\n",
       "      <td>6</td>\n",
       "      <td>Ambulatorio</td>\n",
       "      <td>...</td>\n",
       "      <td>No</td>\n",
       "      <td>No</td>\n",
       "      <td>No</td>\n",
       "      <td>No</td>\n",
       "      <td>No especificado</td>\n",
       "      <td>Positivo</td>\n",
       "      <td>No especificado</td>\n",
       "      <td>México</td>\n",
       "      <td>Se ignora</td>\n",
       "      <td>No aplica</td>\n",
       "    </tr>\n",
       "    <tr>\n",
       "      <th>4</th>\n",
       "      <td>2020-08-11</td>\n",
       "      <td>117cf6</td>\n",
       "      <td>Fuera de usmer</td>\n",
       "      <td>Estatal</td>\n",
       "      <td>27</td>\n",
       "      <td>Mujer</td>\n",
       "      <td>27</td>\n",
       "      <td>27</td>\n",
       "      <td>13</td>\n",
       "      <td>Hospitalizado</td>\n",
       "      <td>...</td>\n",
       "      <td>No</td>\n",
       "      <td>No</td>\n",
       "      <td>No</td>\n",
       "      <td>No</td>\n",
       "      <td>No</td>\n",
       "      <td>Positivo</td>\n",
       "      <td>No especificado</td>\n",
       "      <td>México</td>\n",
       "      <td>Se ignora</td>\n",
       "      <td>No</td>\n",
       "    </tr>\n",
       "  </tbody>\n",
       "</table>\n",
       "<p>5 rows × 35 columns</p>\n",
       "</div>"
      ],
      "text/plain": [
       "  fecha_actualizacion id_registro          origen   sector  entidad_um  \\\n",
       "0          2020-08-11      1a62a3  Fuera de usmer  Estatal          15   \n",
       "1          2020-08-11      1491cc  Fuera de usmer  Estatal          27   \n",
       "2          2020-08-11      12bed1  Fuera de usmer  Estatal          15   \n",
       "3          2020-08-11      117245  Fuera de usmer  Estatal          25   \n",
       "4          2020-08-11      117cf6  Fuera de usmer  Estatal          27   \n",
       "\n",
       "     sexo  entidad_nac  entidad_res  municipio_res  tipo_paciente  ...  \\\n",
       "0   Mujer           15           15              2    Ambulatorio  ...   \n",
       "1   Mujer           27           27              4    Ambulatorio  ...   \n",
       "2   Mujer           15           15            106    Ambulatorio  ...   \n",
       "3  Hombre           26           25              6    Ambulatorio  ...   \n",
       "4   Mujer           27           27             13  Hospitalizado  ...   \n",
       "\n",
       "  cardiovascular obesidad renal_cronica tabaquismo        otro_caso  \\\n",
       "0            No       No            No         No               Si    \n",
       "1            No       No            No         No               Si    \n",
       "2            No       No            No         No   No especificado   \n",
       "3            No       No            No         No   No especificado   \n",
       "4            No       No            No         No               No    \n",
       "\n",
       "   resultado         migrante pais_nacionalidad pais_origen        uci  \n",
       "0   Positivo  No especificado            México   Se ignora  No aplica  \n",
       "1   Positivo  No especificado            México   Se ignora  No aplica  \n",
       "2   Positivo  No especificado            México   Se ignora  No aplica  \n",
       "3   Positivo  No especificado            México   Se ignora  No aplica  \n",
       "4   Positivo  No especificado            México   Se ignora        No   \n",
       "\n",
       "[5 rows x 35 columns]"
      ]
     },
     "execution_count": 26,
     "metadata": {},
     "output_type": "execute_result"
    }
   ],
   "source": [
    "cases_df.replace(\n",
    "    to_replace={\n",
    "        \"sector\": {\n",
    "            \"CRUZ ROJA\": \"Cruz roja\",\n",
    "            \"ESTATAL\": \"Estatal\",\n",
    "            \"MUNICIPAL\": \"Municipal\",\n",
    "            \"PRIVADA\": \"Privada\",\n",
    "            \"UNIVERSITARIO\": \"Universitario\",\n",
    "            \"NO ESPECIFICADO\": \"No especificado\"\n",
    "        },\n",
    "        \"resultado\": {\n",
    "            \"Positivo sars-cov-2\": \"Positivo\",\n",
    "            \"No positivo sars-cov-2\": \"Negativo\",\n",
    "            \"Resultado pendiente\": \"Pendiente\"\n",
    "        }\n",
    "    },\n",
    "    inplace=True\n",
    ")\n",
    "cases_df.head()"
   ]
  },
  {
   "cell_type": "markdown",
   "metadata": {},
   "source": [
    "### Geospatial"
   ]
  },
  {
   "cell_type": "markdown",
   "metadata": {},
   "source": [
    "#### Geometries"
   ]
  },
  {
   "cell_type": "code",
   "execution_count": 27,
   "metadata": {},
   "outputs": [
    {
     "name": "stdout",
     "output_type": "stream",
     "text": [
      "(2465, 7)\n"
     ]
    },
    {
     "data": {
      "text/html": [
       "<div>\n",
       "<style scoped>\n",
       "    .dataframe tbody tr th:only-of-type {\n",
       "        vertical-align: middle;\n",
       "    }\n",
       "\n",
       "    .dataframe tbody tr th {\n",
       "        vertical-align: top;\n",
       "    }\n",
       "\n",
       "    .dataframe thead th {\n",
       "        text-align: right;\n",
       "    }\n",
       "</style>\n",
       "<table border=\"1\" class=\"dataframe\">\n",
       "  <thead>\n",
       "    <tr style=\"text-align: right;\">\n",
       "      <th></th>\n",
       "      <th>cve_ent</th>\n",
       "      <th>cve_mun</th>\n",
       "      <th>cvegeo_mun</th>\n",
       "      <th>geometry</th>\n",
       "      <th>geometry_ent</th>\n",
       "      <th>nomgeo_ent</th>\n",
       "      <th>nomgeo_mun</th>\n",
       "    </tr>\n",
       "  </thead>\n",
       "  <tbody>\n",
       "    <tr>\n",
       "      <th>0</th>\n",
       "      <td>1</td>\n",
       "      <td>1</td>\n",
       "      <td>1001</td>\n",
       "      <td>POLYGON ((2489072.503 1115771.584, 2489352.774...</td>\n",
       "      <td>POLYGON ((2470517.824299999 1155028.588300001,...</td>\n",
       "      <td>Aguascalientes</td>\n",
       "      <td>Aguascalientes</td>\n",
       "    </tr>\n",
       "    <tr>\n",
       "      <th>1</th>\n",
       "      <td>1</td>\n",
       "      <td>2</td>\n",
       "      <td>1002</td>\n",
       "      <td>POLYGON ((2494680.261 1141224.505, 2494749.948...</td>\n",
       "      <td>POLYGON ((2470517.824299999 1155028.588300001,...</td>\n",
       "      <td>Aguascalientes</td>\n",
       "      <td>Asientos</td>\n",
       "    </tr>\n",
       "    <tr>\n",
       "      <th>2</th>\n",
       "      <td>1</td>\n",
       "      <td>3</td>\n",
       "      <td>1003</td>\n",
       "      <td>POLYGON ((2429607.454 1120262.254, 2429071.902...</td>\n",
       "      <td>POLYGON ((2470517.824299999 1155028.588300001,...</td>\n",
       "      <td>Aguascalientes</td>\n",
       "      <td>Calvillo</td>\n",
       "    </tr>\n",
       "    <tr>\n",
       "      <th>3</th>\n",
       "      <td>1</td>\n",
       "      <td>4</td>\n",
       "      <td>1004</td>\n",
       "      <td>POLYGON ((2470517.824 1155028.588, 2470552.248...</td>\n",
       "      <td>POLYGON ((2470517.824299999 1155028.588300001,...</td>\n",
       "      <td>Aguascalientes</td>\n",
       "      <td>Cosío</td>\n",
       "    </tr>\n",
       "    <tr>\n",
       "      <th>4</th>\n",
       "      <td>1</td>\n",
       "      <td>5</td>\n",
       "      <td>1005</td>\n",
       "      <td>POLYGON ((2465526.729 1114740.466, 2465752.546...</td>\n",
       "      <td>POLYGON ((2470517.824299999 1155028.588300001,...</td>\n",
       "      <td>Aguascalientes</td>\n",
       "      <td>Jesús María</td>\n",
       "    </tr>\n",
       "  </tbody>\n",
       "</table>\n",
       "</div>"
      ],
      "text/plain": [
       "   cve_ent  cve_mun  cvegeo_mun  \\\n",
       "0        1        1        1001   \n",
       "1        1        2        1002   \n",
       "2        1        3        1003   \n",
       "3        1        4        1004   \n",
       "4        1        5        1005   \n",
       "\n",
       "                                            geometry  \\\n",
       "0  POLYGON ((2489072.503 1115771.584, 2489352.774...   \n",
       "1  POLYGON ((2494680.261 1141224.505, 2494749.948...   \n",
       "2  POLYGON ((2429607.454 1120262.254, 2429071.902...   \n",
       "3  POLYGON ((2470517.824 1155028.588, 2470552.248...   \n",
       "4  POLYGON ((2465526.729 1114740.466, 2465752.546...   \n",
       "\n",
       "                                        geometry_ent      nomgeo_ent  \\\n",
       "0  POLYGON ((2470517.824299999 1155028.588300001,...  Aguascalientes   \n",
       "1  POLYGON ((2470517.824299999 1155028.588300001,...  Aguascalientes   \n",
       "2  POLYGON ((2470517.824299999 1155028.588300001,...  Aguascalientes   \n",
       "3  POLYGON ((2470517.824299999 1155028.588300001,...  Aguascalientes   \n",
       "4  POLYGON ((2470517.824299999 1155028.588300001,...  Aguascalientes   \n",
       "\n",
       "       nomgeo_mun  \n",
       "0  Aguascalientes  \n",
       "1        Asientos  \n",
       "2        Calvillo  \n",
       "3           Cosío  \n",
       "4     Jesús María  "
      ]
     },
     "execution_count": 27,
     "metadata": {},
     "output_type": "execute_result"
    }
   ],
   "source": [
    "geometries_joined = (\n",
    "    gdf_mun.merge(gdf_ent, on=\"CVE_ENT\", suffixes=(\"_mun\", \"_ent\")).\n",
    "    pipe(lambda x: x.rename(columns=dict(zip(x.columns, x.columns.str.lower())))).\n",
    "    rename(columns={\"geometry_mun\": \"geometry\"}).\n",
    "    drop(columns=[\"cvegeo_ent\"]).\n",
    "    pipe(lambda x: x.apply(pd.to_numeric, errors=\"ignore\")).\n",
    "    pipe(lambda x: gpd.GeoDataFrame(x[sorted(x.columns)], geometry=\"geometry\", crs=gdf_mun.crs))\n",
    ")\n",
    "print(geometries_joined.shape)\n",
    "geometries_joined.head()"
   ]
  },
  {
   "cell_type": "markdown",
   "metadata": {},
   "source": [
    "#### Population size"
   ]
  },
  {
   "cell_type": "code",
   "execution_count": 28,
   "metadata": {},
   "outputs": [
    {
     "name": "stdout",
     "output_type": "stream",
     "text": [
      "(2466, 4)\n"
     ]
    },
    {
     "data": {
      "text/html": [
       "<div>\n",
       "<style scoped>\n",
       "    .dataframe tbody tr th:only-of-type {\n",
       "        vertical-align: middle;\n",
       "    }\n",
       "\n",
       "    .dataframe tbody tr th {\n",
       "        vertical-align: top;\n",
       "    }\n",
       "\n",
       "    .dataframe thead th {\n",
       "        text-align: right;\n",
       "    }\n",
       "</style>\n",
       "<table border=\"1\" class=\"dataframe\">\n",
       "  <thead>\n",
       "    <tr style=\"text-align: right;\">\n",
       "      <th></th>\n",
       "      <th>cve_ent</th>\n",
       "      <th>cve_mun</th>\n",
       "      <th>pob_total</th>\n",
       "      <th>total_de_viviendas_habitadas</th>\n",
       "    </tr>\n",
       "  </thead>\n",
       "  <tbody>\n",
       "    <tr>\n",
       "      <th>0</th>\n",
       "      <td>1</td>\n",
       "      <td>1</td>\n",
       "      <td>789618.0</td>\n",
       "      <td>199881.0</td>\n",
       "    </tr>\n",
       "    <tr>\n",
       "      <th>1</th>\n",
       "      <td>1</td>\n",
       "      <td>2</td>\n",
       "      <td>45407.0</td>\n",
       "      <td>9996.0</td>\n",
       "    </tr>\n",
       "    <tr>\n",
       "      <th>2</th>\n",
       "      <td>1</td>\n",
       "      <td>3</td>\n",
       "      <td>54136.0</td>\n",
       "      <td>12847.0</td>\n",
       "    </tr>\n",
       "    <tr>\n",
       "      <th>3</th>\n",
       "      <td>1</td>\n",
       "      <td>4</td>\n",
       "      <td>15042.0</td>\n",
       "      <td>3467.0</td>\n",
       "    </tr>\n",
       "    <tr>\n",
       "      <th>4</th>\n",
       "      <td>1</td>\n",
       "      <td>5</td>\n",
       "      <td>97498.0</td>\n",
       "      <td>22309.0</td>\n",
       "    </tr>\n",
       "  </tbody>\n",
       "</table>\n",
       "</div>"
      ],
      "text/plain": [
       "   cve_ent  cve_mun  pob_total  total_de_viviendas_habitadas\n",
       "0        1        1   789618.0                      199881.0\n",
       "1        1        2    45407.0                        9996.0\n",
       "2        1        3    54136.0                       12847.0\n",
       "3        1        4    15042.0                        3467.0\n",
       "4        1        5    97498.0                       22309.0"
      ]
     },
     "execution_count": 28,
     "metadata": {},
     "output_type": "execute_result"
    }
   ],
   "source": [
    "mun_population = (\n",
    "    population_df.\n",
    "    pipe(lambda x: x.rename(columns=dict(zip(x.columns, x.columns.str.replace(\" \", \"_\").str.lower())))).\n",
    "    groupby([\"cve_ent\", \"cve_mun\"]).\n",
    "    aggregate(sum).\n",
    "    reset_index()\n",
    ")\n",
    "print(mun_population.shape)\n",
    "mun_population.head()"
   ]
  },
  {
   "cell_type": "markdown",
   "metadata": {},
   "source": [
    "#### Join all geospatial data"
   ]
  },
  {
   "cell_type": "code",
   "execution_count": 29,
   "metadata": {},
   "outputs": [
    {
     "name": "stdout",
     "output_type": "stream",
     "text": [
      "(2465, 11)\n"
     ]
    },
    {
     "data": {
      "text/html": [
       "<div>\n",
       "<style scoped>\n",
       "    .dataframe tbody tr th:only-of-type {\n",
       "        vertical-align: middle;\n",
       "    }\n",
       "\n",
       "    .dataframe tbody tr th {\n",
       "        vertical-align: top;\n",
       "    }\n",
       "\n",
       "    .dataframe thead th {\n",
       "        text-align: right;\n",
       "    }\n",
       "</style>\n",
       "<table border=\"1\" class=\"dataframe\">\n",
       "  <thead>\n",
       "    <tr style=\"text-align: right;\">\n",
       "      <th></th>\n",
       "      <th>cve_ent</th>\n",
       "      <th>cve_mun</th>\n",
       "      <th>cvegeo_mun</th>\n",
       "      <th>geometry</th>\n",
       "      <th>geometry_ent</th>\n",
       "      <th>nomgeo_ent</th>\n",
       "      <th>nomgeo_mun</th>\n",
       "      <th>pob_total</th>\n",
       "      <th>total_de_viviendas_habitadas</th>\n",
       "      <th>area_km</th>\n",
       "      <th>densidad</th>\n",
       "    </tr>\n",
       "  </thead>\n",
       "  <tbody>\n",
       "    <tr>\n",
       "      <th>0</th>\n",
       "      <td>1</td>\n",
       "      <td>1</td>\n",
       "      <td>1001</td>\n",
       "      <td>POLYGON ((2489072.503 1115771.584, 2489352.774...</td>\n",
       "      <td>POLYGON ((2470517.824299999 1155028.588300001,...</td>\n",
       "      <td>Aguascalientes</td>\n",
       "      <td>Aguascalientes</td>\n",
       "      <td>789618.0</td>\n",
       "      <td>199881.0</td>\n",
       "      <td>1.166359e+06</td>\n",
       "      <td>0.676994</td>\n",
       "    </tr>\n",
       "    <tr>\n",
       "      <th>1</th>\n",
       "      <td>1</td>\n",
       "      <td>2</td>\n",
       "      <td>1002</td>\n",
       "      <td>POLYGON ((2494680.261 1141224.505, 2494749.948...</td>\n",
       "      <td>POLYGON ((2470517.824299999 1155028.588300001,...</td>\n",
       "      <td>Aguascalientes</td>\n",
       "      <td>Asientos</td>\n",
       "      <td>45407.0</td>\n",
       "      <td>9996.0</td>\n",
       "      <td>5.433743e+05</td>\n",
       "      <td>0.083565</td>\n",
       "    </tr>\n",
       "    <tr>\n",
       "      <th>2</th>\n",
       "      <td>1</td>\n",
       "      <td>3</td>\n",
       "      <td>1003</td>\n",
       "      <td>POLYGON ((2429607.454 1120262.254, 2429071.902...</td>\n",
       "      <td>POLYGON ((2470517.824299999 1155028.588300001,...</td>\n",
       "      <td>Aguascalientes</td>\n",
       "      <td>Calvillo</td>\n",
       "      <td>54136.0</td>\n",
       "      <td>12847.0</td>\n",
       "      <td>9.233578e+05</td>\n",
       "      <td>0.058629</td>\n",
       "    </tr>\n",
       "    <tr>\n",
       "      <th>3</th>\n",
       "      <td>1</td>\n",
       "      <td>4</td>\n",
       "      <td>1004</td>\n",
       "      <td>POLYGON ((2470517.824 1155028.588, 2470552.248...</td>\n",
       "      <td>POLYGON ((2470517.824299999 1155028.588300001,...</td>\n",
       "      <td>Aguascalientes</td>\n",
       "      <td>Cosío</td>\n",
       "      <td>15042.0</td>\n",
       "      <td>3467.0</td>\n",
       "      <td>1.283835e+05</td>\n",
       "      <td>0.117165</td>\n",
       "    </tr>\n",
       "    <tr>\n",
       "      <th>4</th>\n",
       "      <td>1</td>\n",
       "      <td>5</td>\n",
       "      <td>1005</td>\n",
       "      <td>POLYGON ((2465526.729 1114740.466, 2465752.546...</td>\n",
       "      <td>POLYGON ((2470517.824299999 1155028.588300001,...</td>\n",
       "      <td>Aguascalientes</td>\n",
       "      <td>Jesús María</td>\n",
       "      <td>97498.0</td>\n",
       "      <td>22309.0</td>\n",
       "      <td>4.998951e+05</td>\n",
       "      <td>0.195037</td>\n",
       "    </tr>\n",
       "  </tbody>\n",
       "</table>\n",
       "</div>"
      ],
      "text/plain": [
       "   cve_ent  cve_mun  cvegeo_mun  \\\n",
       "0        1        1        1001   \n",
       "1        1        2        1002   \n",
       "2        1        3        1003   \n",
       "3        1        4        1004   \n",
       "4        1        5        1005   \n",
       "\n",
       "                                            geometry  \\\n",
       "0  POLYGON ((2489072.503 1115771.584, 2489352.774...   \n",
       "1  POLYGON ((2494680.261 1141224.505, 2494749.948...   \n",
       "2  POLYGON ((2429607.454 1120262.254, 2429071.902...   \n",
       "3  POLYGON ((2470517.824 1155028.588, 2470552.248...   \n",
       "4  POLYGON ((2465526.729 1114740.466, 2465752.546...   \n",
       "\n",
       "                                        geometry_ent      nomgeo_ent  \\\n",
       "0  POLYGON ((2470517.824299999 1155028.588300001,...  Aguascalientes   \n",
       "1  POLYGON ((2470517.824299999 1155028.588300001,...  Aguascalientes   \n",
       "2  POLYGON ((2470517.824299999 1155028.588300001,...  Aguascalientes   \n",
       "3  POLYGON ((2470517.824299999 1155028.588300001,...  Aguascalientes   \n",
       "4  POLYGON ((2470517.824299999 1155028.588300001,...  Aguascalientes   \n",
       "\n",
       "       nomgeo_mun  pob_total  total_de_viviendas_habitadas       area_km  \\\n",
       "0  Aguascalientes   789618.0                      199881.0  1.166359e+06   \n",
       "1        Asientos    45407.0                        9996.0  5.433743e+05   \n",
       "2        Calvillo    54136.0                       12847.0  9.233578e+05   \n",
       "3           Cosío    15042.0                        3467.0  1.283835e+05   \n",
       "4     Jesús María    97498.0                       22309.0  4.998951e+05   \n",
       "\n",
       "   densidad  \n",
       "0  0.676994  \n",
       "1  0.083565  \n",
       "2  0.058629  \n",
       "3  0.117165  \n",
       "4  0.195037  "
      ]
     },
     "execution_count": 29,
     "metadata": {},
     "output_type": "execute_result"
    }
   ],
   "source": [
    "geometries_joined_full = (\n",
    "    geometries_joined.\n",
    "    merge(mun_population, on=[\"cve_ent\",\"cve_mun\"]).\n",
    "    pipe(lambda df: gpd.GeoDataFrame(df, geometry=\"geometry\", crs=gdf_mun.crs)).\n",
    "    assign(area_km = lambda x: x.area / 1000).\n",
    "    assign(\n",
    "        densidad = lambda x: x.pob_total / x.area_km\n",
    "    )\n",
    "    \n",
    ")\n",
    "print(geometries_joined_full.shape)\n",
    "geometries_joined_full.head()"
   ]
  },
  {
   "cell_type": "code",
   "execution_count": 30,
   "metadata": {},
   "outputs": [
    {
     "data": {
      "image/png": "[encoded data removed]",
      "text/plain": [
       "<Figure size 864x864 with 1 Axes>"
      ]
     },
     "metadata": {
      "needs_background": "light"
     },
     "output_type": "display_data"
    }
   ],
   "source": [
    "ax = geometries_joined_full.plot(column=\"densidad\",\n",
    "                            legend=True,\n",
    "                            figsize=(12,12),\n",
    "                            cmap=\"OrRd\",\n",
    "                            scheme=\"quantiles\"\n",
    "                           )\n",
    "ax.set_axis_off()\n",
    "plt.title(\"Density per area\");"
   ]
  },
  {
   "cell_type": "markdown",
   "metadata": {},
   "source": [
    "### Join data sources"
   ]
  },
  {
   "cell_type": "markdown",
   "metadata": {},
   "source": [
    "#### Look for incosistencies"
   ]
  },
  {
   "cell_type": "markdown",
   "metadata": {},
   "source": [
    "##### States"
   ]
  },
  {
   "cell_type": "code",
   "execution_count": 31,
   "metadata": {},
   "outputs": [],
   "source": [
    "cases_states_codes = catalogs_dicts[\"entidades\"].get(\"ENTIDAD_FEDERATIVA\")\n",
    "geospatial_states_codes = dict(zip(gdf_ent.CVE_ENT.apply(int), gdf_ent.NOMGEO))"
   ]
  },
  {
   "cell_type": "code",
   "execution_count": 32,
   "metadata": {},
   "outputs": [
    {
     "data": {
      "text/plain": [
       "{97: 'no aplica',\n",
       " 98: 'se ignora',\n",
       " 99: 'no especificado',\n",
       " 36: 'estados unidos mexicanos'}"
      ]
     },
     "execution_count": 32,
     "metadata": {},
     "output_type": "execute_result"
    }
   ],
   "source": [
    "x = {key: value.lower() for key, value in cases_states_codes.items()}\n",
    "y = {key: value.lower() for key, value in geospatial_states_codes.items()}\n",
    "unshared_keys = {key: x[key] for key in set(x.keys()).difference(y.keys())}\n",
    "unshared_keys"
   ]
  },
  {
   "cell_type": "code",
   "execution_count": 33,
   "metadata": {},
   "outputs": [
    {
     "data": {
      "text/plain": [
       "{}"
      ]
     },
     "execution_count": 33,
     "metadata": {},
     "output_type": "execute_result"
    }
   ],
   "source": [
    "unshared_shared_values = {k: (x[k], y[k]) for k in x if k in y and x[k] != y[k]}\n",
    "unshared_shared_values"
   ]
  },
  {
   "cell_type": "code",
   "execution_count": 34,
   "metadata": {},
   "outputs": [],
   "source": [
    "geospatial_states_codes.update({key: value.capitalize() for key, value in cases_states_codes.items() if key in unshared_keys})"
   ]
  },
  {
   "cell_type": "markdown",
   "metadata": {},
   "source": [
    "##### Municipalities"
   ]
  },
  {
   "cell_type": "code",
   "execution_count": 35,
   "metadata": {},
   "outputs": [],
   "source": [
    "cases_municipalities_codes = catalogs_dfs[\"Catálogo MUNICIPIOS\"].set_index([\"CLAVE_ENTIDAD\", \"CLAVE_MUNICIPIO\"])[\"MUNICIPIO\"].to_dict()\n",
    "geospatial_municipalities_codes = geometries_joined_full.set_index([\"cve_ent\", \"cve_mun\"])[\"nomgeo_mun\"].to_dict()"
   ]
  },
  {
   "cell_type": "code",
   "execution_count": 36,
   "metadata": {},
   "outputs": [],
   "source": [
    "x = {key: value.lower() for key, value in cases_municipalities_codes.items()}\n",
    "y = {key: value.lower() for key, value in geospatial_municipalities_codes.items()}"
   ]
  },
  {
   "cell_type": "code",
   "execution_count": 37,
   "metadata": {},
   "outputs": [
    {
     "data": {
      "text/plain": [
       "{(36, 999): 'no especificado',\n",
       " (31, 999): 'no especificado',\n",
       " (24, 999): 'no especificado',\n",
       " (10, 999): 'no especificado',\n",
       " (19, 999): 'no especificado',\n",
       " (5, 999): 'no especificado',\n",
       " (14, 999): 'no especificado',\n",
       " (30, 999): 'no especificado',\n",
       " (9, 999): 'no especificado',\n",
       " (4, 999): 'no especificado',\n",
       " (8, 999): 'no especificado',\n",
       " (3, 999): 'no especificado',\n",
       " (29, 999): 'no especificado',\n",
       " (97, 997): 'no aplica',\n",
       " (28, 999): 'no especificado',\n",
       " (23, 999): 'no especificado',\n",
       " (2, 999): 'no especificado',\n",
       " (98, 998): 'se ignora',\n",
       " (32, 999): 'no especificado',\n",
       " (18, 999): 'no especificado',\n",
       " (27, 999): 'no especificado',\n",
       " (13, 999): 'no especificado',\n",
       " (22, 999): 'no especificado',\n",
       " (1, 999): 'no especificado',\n",
       " (17, 999): 'no especificado',\n",
       " (12, 999): 'no especificado',\n",
       " (7, 999): 'no especificado',\n",
       " (16, 999): 'no especificado',\n",
       " (11, 999): 'no especificado',\n",
       " (6, 999): 'no especificado',\n",
       " (26, 999): 'no especificado',\n",
       " (99, 999): 'no especificado',\n",
       " (21, 999): 'no especificado',\n",
       " (25, 999): 'no especificado',\n",
       " (20, 999): 'no especificado',\n",
       " (15, 999): 'no especificado'}"
      ]
     },
     "execution_count": 37,
     "metadata": {},
     "output_type": "execute_result"
    }
   ],
   "source": [
    "unshared_keys = {key: x[key] for key in set(x.keys()).difference(y.keys())}\n",
    "unshared_keys"
   ]
  },
  {
   "cell_type": "code",
   "execution_count": 38,
   "metadata": {},
   "outputs": [
    {
     "data": {
      "text/plain": [
       "{(20, 43): ('juchitán de zaragoza', 'heroica ciudad de juchitán de zaragoza'),\n",
       " (20, 459): ('villa de santiago chazumba', 'santiago chazumba')}"
      ]
     },
     "execution_count": 38,
     "metadata": {},
     "output_type": "execute_result"
    }
   ],
   "source": [
    "unshared_shared_values = {k: (x[k], y[k]) for k in x if k in y and x[k] != y[k]}\n",
    "unshared_shared_values"
   ]
  },
  {
   "cell_type": "code",
   "execution_count": 39,
   "metadata": {},
   "outputs": [],
   "source": [
    "municipality_keys = ['cve_ent', 'cve_mun', 'nomgeo_mun', \"cvegeo_mun\"]"
   ]
  },
  {
   "cell_type": "code",
   "execution_count": 40,
   "metadata": {},
   "outputs": [
    {
     "data": {
      "text/html": [
       "<div>\n",
       "<style scoped>\n",
       "    .dataframe tbody tr th:only-of-type {\n",
       "        vertical-align: middle;\n",
       "    }\n",
       "\n",
       "    .dataframe tbody tr th {\n",
       "        vertical-align: top;\n",
       "    }\n",
       "\n",
       "    .dataframe thead th {\n",
       "        text-align: right;\n",
       "    }\n",
       "</style>\n",
       "<table border=\"1\" class=\"dataframe\">\n",
       "  <thead>\n",
       "    <tr style=\"text-align: right;\">\n",
       "      <th></th>\n",
       "      <th>entidad_res</th>\n",
       "      <th>municipio_res</th>\n",
       "      <th>municipio_res_name</th>\n",
       "      <th>cvegeo_mun</th>\n",
       "    </tr>\n",
       "  </thead>\n",
       "  <tbody>\n",
       "    <tr>\n",
       "      <th>0</th>\n",
       "      <td>1</td>\n",
       "      <td>1</td>\n",
       "      <td>Aguascalientes</td>\n",
       "      <td>1001</td>\n",
       "    </tr>\n",
       "    <tr>\n",
       "      <th>1</th>\n",
       "      <td>1</td>\n",
       "      <td>2</td>\n",
       "      <td>Asientos</td>\n",
       "      <td>1002</td>\n",
       "    </tr>\n",
       "    <tr>\n",
       "      <th>2</th>\n",
       "      <td>1</td>\n",
       "      <td>3</td>\n",
       "      <td>Calvillo</td>\n",
       "      <td>1003</td>\n",
       "    </tr>\n",
       "    <tr>\n",
       "      <th>3</th>\n",
       "      <td>1</td>\n",
       "      <td>4</td>\n",
       "      <td>Cosío</td>\n",
       "      <td>1004</td>\n",
       "    </tr>\n",
       "    <tr>\n",
       "      <th>4</th>\n",
       "      <td>1</td>\n",
       "      <td>5</td>\n",
       "      <td>Jesús María</td>\n",
       "      <td>1005</td>\n",
       "    </tr>\n",
       "  </tbody>\n",
       "</table>\n",
       "</div>"
      ],
      "text/plain": [
       "   entidad_res  municipio_res municipio_res_name cvegeo_mun\n",
       "0            1              1     Aguascalientes       1001\n",
       "1            1              2           Asientos       1002\n",
       "2            1              3           Calvillo       1003\n",
       "3            1              4              Cosío       1004\n",
       "4            1              5        Jesús María       1005"
      ]
     },
     "execution_count": 40,
     "metadata": {},
     "output_type": "execute_result"
    }
   ],
   "source": [
    "to_add_df = pd.DataFrame([[*keys, value.capitalize(), None] for keys, value in unshared_keys.items()], columns=municipality_keys)\n",
    "municipalities_replacement_df = (\n",
    "    geometries_joined_full[municipality_keys].\n",
    "    append(to_add_df).\n",
    "    rename(columns={\"cve_ent\": \"entidad_res\", \"cve_mun\": \"municipio_res\", \"nomgeo_mun\": \"municipio_res_name\"})\n",
    ")\n",
    "municipalities_replacement_df.head()"
   ]
  },
  {
   "cell_type": "markdown",
   "metadata": {},
   "source": [
    "#### Perform replacement and add some useful columns"
   ]
  },
  {
   "cell_type": "code",
   "execution_count": 41,
   "metadata": {},
   "outputs": [],
   "source": [
    "bins = [x*4 for x in range(0,32)]\n",
    "labels = [\"{}-{}\".format(start, end) for start, end in zip(bins[:-1], bins[1:])]\n",
    "cases_df[\"rango_edad\"] = pd.cut(cases_df.edad, bins=bins, include_lowest=True, labels=labels)"
   ]
  },
  {
   "cell_type": "code",
   "execution_count": 42,
   "metadata": {},
   "outputs": [
    {
     "data": {
      "text/html": [
       "<div>\n",
       "<style scoped>\n",
       "    .dataframe tbody tr th:only-of-type {\n",
       "        vertical-align: middle;\n",
       "    }\n",
       "\n",
       "    .dataframe tbody tr th {\n",
       "        vertical-align: top;\n",
       "    }\n",
       "\n",
       "    .dataframe thead th {\n",
       "        text-align: right;\n",
       "    }\n",
       "</style>\n",
       "<table border=\"1\" class=\"dataframe\">\n",
       "  <thead>\n",
       "    <tr style=\"text-align: right;\">\n",
       "      <th></th>\n",
       "      <th>fecha_actualizacion</th>\n",
       "      <th>id_registro</th>\n",
       "      <th>origen</th>\n",
       "      <th>sector</th>\n",
       "      <th>sexo</th>\n",
       "      <th>tipo_paciente</th>\n",
       "      <th>fecha_ingreso</th>\n",
       "      <th>fecha_sintomas</th>\n",
       "      <th>fecha_def</th>\n",
       "      <th>intubado</th>\n",
       "      <th>...</th>\n",
       "      <th>pais_nacionalidad</th>\n",
       "      <th>pais_origen</th>\n",
       "      <th>uci</th>\n",
       "      <th>rango_edad</th>\n",
       "      <th>entidad_um_name</th>\n",
       "      <th>entidad_nac_name</th>\n",
       "      <th>entidad_res_name</th>\n",
       "      <th>municipio_res_name</th>\n",
       "      <th>cvegeo_mun</th>\n",
       "      <th>estado</th>\n",
       "    </tr>\n",
       "  </thead>\n",
       "  <tbody>\n",
       "    <tr>\n",
       "      <th>0</th>\n",
       "      <td>2020-08-11</td>\n",
       "      <td>1a62a3</td>\n",
       "      <td>Fuera de usmer</td>\n",
       "      <td>Estatal</td>\n",
       "      <td>Mujer</td>\n",
       "      <td>Ambulatorio</td>\n",
       "      <td>2020-06-11</td>\n",
       "      <td>2020-06-08</td>\n",
       "      <td>NaT</td>\n",
       "      <td>No aplica</td>\n",
       "      <td>...</td>\n",
       "      <td>México</td>\n",
       "      <td>Se ignora</td>\n",
       "      <td>No aplica</td>\n",
       "      <td>20-24</td>\n",
       "      <td>México</td>\n",
       "      <td>México</td>\n",
       "      <td>México</td>\n",
       "      <td>Acolman</td>\n",
       "      <td>15002</td>\n",
       "      <td>Vivo</td>\n",
       "    </tr>\n",
       "    <tr>\n",
       "      <th>1</th>\n",
       "      <td>2020-08-11</td>\n",
       "      <td>17ecaf</td>\n",
       "      <td>Fuera de usmer</td>\n",
       "      <td>Estatal</td>\n",
       "      <td>Hombre</td>\n",
       "      <td>Ambulatorio</td>\n",
       "      <td>2020-05-27</td>\n",
       "      <td>2020-05-26</td>\n",
       "      <td>NaT</td>\n",
       "      <td>No aplica</td>\n",
       "      <td>...</td>\n",
       "      <td>México</td>\n",
       "      <td>Se ignora</td>\n",
       "      <td>No aplica</td>\n",
       "      <td>52-56</td>\n",
       "      <td>México</td>\n",
       "      <td>México</td>\n",
       "      <td>México</td>\n",
       "      <td>Acolman</td>\n",
       "      <td>15002</td>\n",
       "      <td>Vivo</td>\n",
       "    </tr>\n",
       "    <tr>\n",
       "      <th>2</th>\n",
       "      <td>2020-08-11</td>\n",
       "      <td>1be334</td>\n",
       "      <td>Fuera de usmer</td>\n",
       "      <td>Estatal</td>\n",
       "      <td>Hombre</td>\n",
       "      <td>Ambulatorio</td>\n",
       "      <td>2020-05-16</td>\n",
       "      <td>2020-05-15</td>\n",
       "      <td>NaT</td>\n",
       "      <td>No aplica</td>\n",
       "      <td>...</td>\n",
       "      <td>México</td>\n",
       "      <td>Se ignora</td>\n",
       "      <td>No aplica</td>\n",
       "      <td>12-16</td>\n",
       "      <td>México</td>\n",
       "      <td>México</td>\n",
       "      <td>México</td>\n",
       "      <td>Acolman</td>\n",
       "      <td>15002</td>\n",
       "      <td>Vivo</td>\n",
       "    </tr>\n",
       "    <tr>\n",
       "      <th>3</th>\n",
       "      <td>2020-08-11</td>\n",
       "      <td>1b2937</td>\n",
       "      <td>Fuera de usmer</td>\n",
       "      <td>IMSS</td>\n",
       "      <td>Mujer</td>\n",
       "      <td>Ambulatorio</td>\n",
       "      <td>2020-04-23</td>\n",
       "      <td>2020-04-23</td>\n",
       "      <td>NaT</td>\n",
       "      <td>No aplica</td>\n",
       "      <td>...</td>\n",
       "      <td>México</td>\n",
       "      <td>Se ignora</td>\n",
       "      <td>No aplica</td>\n",
       "      <td>24-28</td>\n",
       "      <td>México</td>\n",
       "      <td>México</td>\n",
       "      <td>México</td>\n",
       "      <td>Acolman</td>\n",
       "      <td>15002</td>\n",
       "      <td>Vivo</td>\n",
       "    </tr>\n",
       "    <tr>\n",
       "      <th>4</th>\n",
       "      <td>2020-08-11</td>\n",
       "      <td>15079d</td>\n",
       "      <td>Fuera de usmer</td>\n",
       "      <td>SSA</td>\n",
       "      <td>Hombre</td>\n",
       "      <td>Ambulatorio</td>\n",
       "      <td>2020-05-14</td>\n",
       "      <td>2020-05-12</td>\n",
       "      <td>NaT</td>\n",
       "      <td>No aplica</td>\n",
       "      <td>...</td>\n",
       "      <td>México</td>\n",
       "      <td>Se ignora</td>\n",
       "      <td>No aplica</td>\n",
       "      <td>48-52</td>\n",
       "      <td>México</td>\n",
       "      <td>México</td>\n",
       "      <td>México</td>\n",
       "      <td>Acolman</td>\n",
       "      <td>15002</td>\n",
       "      <td>Vivo</td>\n",
       "    </tr>\n",
       "  </tbody>\n",
       "</table>\n",
       "<p>5 rows × 38 columns</p>\n",
       "</div>"
      ],
      "text/plain": [
       "  fecha_actualizacion id_registro          origen   sector    sexo  \\\n",
       "0          2020-08-11      1a62a3  Fuera de usmer  Estatal   Mujer   \n",
       "1          2020-08-11      17ecaf  Fuera de usmer  Estatal  Hombre   \n",
       "2          2020-08-11      1be334  Fuera de usmer  Estatal  Hombre   \n",
       "3          2020-08-11      1b2937  Fuera de usmer     IMSS   Mujer   \n",
       "4          2020-08-11      15079d  Fuera de usmer      SSA  Hombre   \n",
       "\n",
       "  tipo_paciente fecha_ingreso fecha_sintomas fecha_def   intubado  ...  \\\n",
       "0   Ambulatorio    2020-06-11     2020-06-08       NaT  No aplica  ...   \n",
       "1   Ambulatorio    2020-05-27     2020-05-26       NaT  No aplica  ...   \n",
       "2   Ambulatorio    2020-05-16     2020-05-15       NaT  No aplica  ...   \n",
       "3   Ambulatorio    2020-04-23     2020-04-23       NaT  No aplica  ...   \n",
       "4   Ambulatorio    2020-05-14     2020-05-12       NaT  No aplica  ...   \n",
       "\n",
       "  pais_nacionalidad  pais_origen        uci rango_edad entidad_um_name  \\\n",
       "0            México    Se ignora  No aplica      20-24          México   \n",
       "1            México    Se ignora  No aplica      52-56          México   \n",
       "2            México    Se ignora  No aplica      12-16          México   \n",
       "3            México    Se ignora  No aplica      24-28          México   \n",
       "4            México    Se ignora  No aplica      48-52          México   \n",
       "\n",
       "  entidad_nac_name entidad_res_name municipio_res_name cvegeo_mun estado  \n",
       "0           México           México            Acolman      15002   Vivo  \n",
       "1           México           México            Acolman      15002   Vivo  \n",
       "2           México           México            Acolman      15002   Vivo  \n",
       "3           México           México            Acolman      15002   Vivo  \n",
       "4           México           México            Acolman      15002   Vivo  \n",
       "\n",
       "[5 rows x 38 columns]"
      ]
     },
     "execution_count": 42,
     "metadata": {},
     "output_type": "execute_result"
    }
   ],
   "source": [
    "cases_df_verbose = (\n",
    "    cases_df.assign(\n",
    "        entidad_um_name= lambda x: x.entidad_um.replace(geospatial_states_codes),\n",
    "        entidad_nac_name= lambda x: x.entidad_um.replace(geospatial_states_codes),\n",
    "        entidad_res_name= lambda x: x.entidad_um.replace(geospatial_states_codes),\n",
    "    ).\n",
    "    pipe(lambda x: pd.merge(x, municipalities_replacement_df, on=[\"entidad_res\", \"municipio_res\"])).\n",
    "    drop(columns=[\"entidad_nac\", \"entidad_res\", \"municipio_res\", \"entidad_um\"]).\n",
    "    assign(estado=lambda x: x.fecha_def.isnull()).\n",
    "    replace(to_replace=dict(estado={True: \"Vivo\", False: \"Fallecido\"}))\n",
    ")\n",
    "cases_df_verbose.head()"
   ]
  },
  {
   "cell_type": "code",
   "execution_count": 43,
   "metadata": {},
   "outputs": [],
   "source": [
    "mask = cases_df_verbose.dtypes == object\n",
    "cases_df_verbose.loc[:, mask] = cases_df_verbose.loc[:, mask].apply(lambda x: x.astype(str).str.strip())"
   ]
  },
  {
   "cell_type": "markdown",
   "metadata": {},
   "source": [
    "### Save preprocessing data"
   ]
  },
  {
   "cell_type": "code",
   "execution_count": 44,
   "metadata": {},
   "outputs": [],
   "source": [
    "interim_dir = datadir(\"interim\")\n",
    "interim_dir.mkdir(exist_ok=True)"
   ]
  },
  {
   "cell_type": "markdown",
   "metadata": {},
   "source": [
    "#### Cases"
   ]
  },
  {
   "cell_type": "code",
   "execution_count": 45,
   "metadata": {},
   "outputs": [],
   "source": [
    "out_cases_dir = interim_dir.joinpath(\"mexican_government\"); out_cases_dir.mkdir(exist_ok=True)\n",
    "out_cases_file = out_cases_dir.joinpath(\"{}{}\".format(cases_file.stem, cases_file.suffix))"
   ]
  },
  {
   "cell_type": "code",
   "execution_count": 46,
   "metadata": {},
   "outputs": [],
   "source": [
    "cases_df_verbose.to_csv(out_cases_file, index=False)"
   ]
  },
  {
   "cell_type": "markdown",
   "metadata": {},
   "source": [
    "#### Geospatial"
   ]
  },
  {
   "cell_type": "code",
   "execution_count": 47,
   "metadata": {},
   "outputs": [],
   "source": [
    "out_geospatial_dir = interim_dir.joinpath(\"geospatial\"); out_geospatial_dir.mkdir(exist_ok=True)\n",
    "out_geospatial_file = out_geospatial_dir.joinpath(\"00munent.shp\")"
   ]
  },
  {
   "cell_type": "code",
   "execution_count": 48,
   "metadata": {},
   "outputs": [],
   "source": [
    "geometries_joined_full.drop(columns=\"geometry_ent\").to_file(out_geospatial_file)"
   ]
  },
  {
   "cell_type": "markdown",
   "metadata": {},
   "source": [
    "## Convert to english data set (manually :c) "
   ]
  },
  {
   "cell_type": "markdown",
   "metadata": {},
   "source": [
    "### Cases"
   ]
  },
  {
   "cell_type": "markdown",
   "metadata": {},
   "source": [
    "#### Column names"
   ]
  },
  {
   "cell_type": "code",
   "execution_count": 49,
   "metadata": {},
   "outputs": [
    {
     "data": {
      "text/plain": [
       "set()"
      ]
     },
     "execution_count": 49,
     "metadata": {},
     "output_type": "execute_result"
    }
   ],
   "source": [
    "en_columns = dict(\n",
    "    fecha_actualizacion=\"date_update\",\n",
    "    id_registro=\"registration_id\",\n",
    "    origen=\"origin\",\n",
    "    sector=\"sector\",\n",
    "    sexo=\"sex\",\n",
    "    tipo_paciente=\"patient_type\",\n",
    "    fecha_ingreso=\"date_admission\",\n",
    "    fecha_sintomas=\"date_symptoms\",\n",
    "    fecha_def=\"date_death\",\n",
    "    habla_lengua_indig=\"speaks_lang_indig\",\n",
    "    diabetes=\"diabetes\",\n",
    "    embarazo=\"pregnancy\",\n",
    "    intubado=\"intubated\",\n",
    "    epoc=\"epoc\",\n",
    "    asma=\"asthma\",\n",
    "    inmusupr=\"immunosuppressed\",\n",
    "    hipertension=\"hypertension\",\n",
    "    otra_com=\"other_comorbidity\",\n",
    "    cardiovascular=\"cardiovascular\",\n",
    "    obesidad=\"obesity\",\n",
    "    renal_cronica=\"chronic_kidney\",\n",
    "    tabaquismo=\"smoking\",\n",
    "    neumonia=\"pneumonia\",\n",
    "    otro_caso=\"other_case\",\n",
    "    resultado=\"result\",\n",
    "    migrante=\"migrant\",\n",
    "    nacionalidad=\"nacionality\",\n",
    "    pais_nacionalidad=\"country_nacionality\",\n",
    "    pais_origen=\"country_origin\",\n",
    "    uci=\"icu\",\n",
    "    edad=\"age\",\n",
    "    rango_edad=\"age_range\",\n",
    "    entidad_um_name=\"state_um_name\",\n",
    "    entidad_nac_name=\"sate_nac_name\",\n",
    "    entidad_res_name=\"state_res_name\",\n",
    "    municipio_res_name=\"mun_res_name\",\n",
    "    cvegeo_mun=\"mun_cvegeo\",\n",
    "    estado=\"status\" \n",
    ")\n",
    "set(cases_df_verbose.columns.to_list()).difference(set(en_columns))"
   ]
  },
  {
   "cell_type": "markdown",
   "metadata": {},
   "source": [
    "#### Values"
   ]
  },
  {
   "cell_type": "code",
   "execution_count": 50,
   "metadata": {},
   "outputs": [
    {
     "data": {
      "text/plain": [
       "{'Ambulatorio',\n",
       " 'Cruz roja',\n",
       " 'DIF',\n",
       " 'Estatal',\n",
       " 'Extranjera',\n",
       " 'Fallecido',\n",
       " 'Fuera de usmer',\n",
       " 'Hombre',\n",
       " 'Hospitalizado',\n",
       " 'IMSS',\n",
       " 'IMSS-BIENESTAR',\n",
       " 'ISSSTE',\n",
       " 'Mexicana',\n",
       " 'Mujer',\n",
       " 'Municipal',\n",
       " 'Negativo',\n",
       " 'No',\n",
       " 'No aplica',\n",
       " 'No especificado',\n",
       " 'PEMEX',\n",
       " 'Pendiente',\n",
       " 'Positivo',\n",
       " 'Privada',\n",
       " 'SEDENA',\n",
       " 'SEMAR',\n",
       " 'SSA',\n",
       " 'Se ignora',\n",
       " 'Si',\n",
       " 'Universitario',\n",
       " 'Usmer',\n",
       " 'Vivo'}"
      ]
     },
     "execution_count": 50,
     "metadata": {},
     "output_type": "execute_result"
    }
   ],
   "source": [
    "unique_values = []\n",
    "for column in cases_df_verbose.select_dtypes(include=object).columns:\n",
    "    if column == \"id_registro\" or column==\"cvegeo_mun\":\n",
    "        pass\n",
    "    elif \"name\" not in column and \"pais\" not in column:\n",
    "        unique_values.extend(cases_df_verbose[column].unique().tolist())\n",
    "unique_values = set(unique_values)\n",
    "unique_values"
   ]
  },
  {
   "cell_type": "code",
   "execution_count": 51,
   "metadata": {},
   "outputs": [],
   "source": [
    "en_replacement_values = {\n",
    "    'Ambulatorio': \"Ambulatory\",\n",
    "     'Cruz roja': \"Mexican Red Cross\",\n",
    "     'DIF': \"DIF\",\n",
    "     'Estatal': \"State\",\n",
    "     'Extranjera': \"Foreigner\",\n",
    "     'Fallecido': \"Decease\",\n",
    "     'Fuera de usmer': \"Out of USMER\",\n",
    "     'Hombre': \"Man\",\n",
    "     'Hospitalizado': \"Hospitalized\",\n",
    "     'IMSS': \"IMSS\",\n",
    "     'IMSS-BIENESTAR': \"IMSS-BIENESTAR\",\n",
    "     'ISSSTE': \"ISSSTE\",\n",
    "     'Mexicana': \"Mexican\",\n",
    "     'Mujer': \"Woman\",\n",
    "     'Municipal': \"Municipal\",\n",
    "     'Negativo': \"Negative\",\n",
    "     'No': \"No\",\n",
    "     'No aplica': \"Does not apply\",\n",
    "     'No especificado': \"Not specified\",\n",
    "     'PEMEX': \"PEMEX\",\n",
    "     'Pendiente': \"Pending\",\n",
    "     'Positivo': \"Positive\",\n",
    "     'Privada': \"Private\",\n",
    "     'SEDENA': \"SEDENA\",\n",
    "     'SEMAR': \"SEMAR\",\n",
    "     'SSA': \"SSA\",\n",
    "     'Se ignora': \"It is ignored\",\n",
    "     'Si': \"Yes\",\n",
    "     'Universitario': \"Academic\",\n",
    "     'Usmer': \"USMER\",\n",
    "     'Vivo': \"Alive\"\n",
    "}"
   ]
  },
  {
   "cell_type": "code",
   "execution_count": 52,
   "metadata": {},
   "outputs": [
    {
     "data": {
      "text/html": [
       "<div>\n",
       "<style scoped>\n",
       "    .dataframe tbody tr th:only-of-type {\n",
       "        vertical-align: middle;\n",
       "    }\n",
       "\n",
       "    .dataframe tbody tr th {\n",
       "        vertical-align: top;\n",
       "    }\n",
       "\n",
       "    .dataframe thead th {\n",
       "        text-align: right;\n",
       "    }\n",
       "</style>\n",
       "<table border=\"1\" class=\"dataframe\">\n",
       "  <thead>\n",
       "    <tr style=\"text-align: right;\">\n",
       "      <th></th>\n",
       "      <th>date_update</th>\n",
       "      <th>registration_id</th>\n",
       "      <th>origin</th>\n",
       "      <th>sector</th>\n",
       "      <th>sex</th>\n",
       "      <th>patient_type</th>\n",
       "      <th>date_admission</th>\n",
       "      <th>date_symptoms</th>\n",
       "      <th>date_death</th>\n",
       "      <th>intubated</th>\n",
       "      <th>...</th>\n",
       "      <th>country_nacionality</th>\n",
       "      <th>country_origin</th>\n",
       "      <th>icu</th>\n",
       "      <th>age_range</th>\n",
       "      <th>state_um_name</th>\n",
       "      <th>sate_nac_name</th>\n",
       "      <th>state_res_name</th>\n",
       "      <th>mun_res_name</th>\n",
       "      <th>mun_cvegeo</th>\n",
       "      <th>status</th>\n",
       "    </tr>\n",
       "  </thead>\n",
       "  <tbody>\n",
       "    <tr>\n",
       "      <th>0</th>\n",
       "      <td>2020-08-11</td>\n",
       "      <td>1a62a3</td>\n",
       "      <td>Out of USMER</td>\n",
       "      <td>State</td>\n",
       "      <td>Woman</td>\n",
       "      <td>Ambulatory</td>\n",
       "      <td>2020-06-11</td>\n",
       "      <td>2020-06-08</td>\n",
       "      <td>NaT</td>\n",
       "      <td>Does not apply</td>\n",
       "      <td>...</td>\n",
       "      <td>México</td>\n",
       "      <td>It is ignored</td>\n",
       "      <td>Does not apply</td>\n",
       "      <td>20-24</td>\n",
       "      <td>México</td>\n",
       "      <td>México</td>\n",
       "      <td>México</td>\n",
       "      <td>Acolman</td>\n",
       "      <td>15002</td>\n",
       "      <td>Alive</td>\n",
       "    </tr>\n",
       "    <tr>\n",
       "      <th>1</th>\n",
       "      <td>2020-08-11</td>\n",
       "      <td>17ecaf</td>\n",
       "      <td>Out of USMER</td>\n",
       "      <td>State</td>\n",
       "      <td>Man</td>\n",
       "      <td>Ambulatory</td>\n",
       "      <td>2020-05-27</td>\n",
       "      <td>2020-05-26</td>\n",
       "      <td>NaT</td>\n",
       "      <td>Does not apply</td>\n",
       "      <td>...</td>\n",
       "      <td>México</td>\n",
       "      <td>It is ignored</td>\n",
       "      <td>Does not apply</td>\n",
       "      <td>52-56</td>\n",
       "      <td>México</td>\n",
       "      <td>México</td>\n",
       "      <td>México</td>\n",
       "      <td>Acolman</td>\n",
       "      <td>15002</td>\n",
       "      <td>Alive</td>\n",
       "    </tr>\n",
       "    <tr>\n",
       "      <th>2</th>\n",
       "      <td>2020-08-11</td>\n",
       "      <td>1be334</td>\n",
       "      <td>Out of USMER</td>\n",
       "      <td>State</td>\n",
       "      <td>Man</td>\n",
       "      <td>Ambulatory</td>\n",
       "      <td>2020-05-16</td>\n",
       "      <td>2020-05-15</td>\n",
       "      <td>NaT</td>\n",
       "      <td>Does not apply</td>\n",
       "      <td>...</td>\n",
       "      <td>México</td>\n",
       "      <td>It is ignored</td>\n",
       "      <td>Does not apply</td>\n",
       "      <td>12-16</td>\n",
       "      <td>México</td>\n",
       "      <td>México</td>\n",
       "      <td>México</td>\n",
       "      <td>Acolman</td>\n",
       "      <td>15002</td>\n",
       "      <td>Alive</td>\n",
       "    </tr>\n",
       "    <tr>\n",
       "      <th>3</th>\n",
       "      <td>2020-08-11</td>\n",
       "      <td>1b2937</td>\n",
       "      <td>Out of USMER</td>\n",
       "      <td>IMSS</td>\n",
       "      <td>Woman</td>\n",
       "      <td>Ambulatory</td>\n",
       "      <td>2020-04-23</td>\n",
       "      <td>2020-04-23</td>\n",
       "      <td>NaT</td>\n",
       "      <td>Does not apply</td>\n",
       "      <td>...</td>\n",
       "      <td>México</td>\n",
       "      <td>It is ignored</td>\n",
       "      <td>Does not apply</td>\n",
       "      <td>24-28</td>\n",
       "      <td>México</td>\n",
       "      <td>México</td>\n",
       "      <td>México</td>\n",
       "      <td>Acolman</td>\n",
       "      <td>15002</td>\n",
       "      <td>Alive</td>\n",
       "    </tr>\n",
       "    <tr>\n",
       "      <th>4</th>\n",
       "      <td>2020-08-11</td>\n",
       "      <td>15079d</td>\n",
       "      <td>Out of USMER</td>\n",
       "      <td>SSA</td>\n",
       "      <td>Man</td>\n",
       "      <td>Ambulatory</td>\n",
       "      <td>2020-05-14</td>\n",
       "      <td>2020-05-12</td>\n",
       "      <td>NaT</td>\n",
       "      <td>Does not apply</td>\n",
       "      <td>...</td>\n",
       "      <td>México</td>\n",
       "      <td>It is ignored</td>\n",
       "      <td>Does not apply</td>\n",
       "      <td>48-52</td>\n",
       "      <td>México</td>\n",
       "      <td>México</td>\n",
       "      <td>México</td>\n",
       "      <td>Acolman</td>\n",
       "      <td>15002</td>\n",
       "      <td>Alive</td>\n",
       "    </tr>\n",
       "  </tbody>\n",
       "</table>\n",
       "<p>5 rows × 38 columns</p>\n",
       "</div>"
      ],
      "text/plain": [
       "  date_update registration_id        origin sector    sex patient_type  \\\n",
       "0  2020-08-11          1a62a3  Out of USMER  State  Woman   Ambulatory   \n",
       "1  2020-08-11          17ecaf  Out of USMER  State    Man   Ambulatory   \n",
       "2  2020-08-11          1be334  Out of USMER  State    Man   Ambulatory   \n",
       "3  2020-08-11          1b2937  Out of USMER   IMSS  Woman   Ambulatory   \n",
       "4  2020-08-11          15079d  Out of USMER    SSA    Man   Ambulatory   \n",
       "\n",
       "  date_admission date_symptoms date_death       intubated  ...  \\\n",
       "0     2020-06-11    2020-06-08        NaT  Does not apply  ...   \n",
       "1     2020-05-27    2020-05-26        NaT  Does not apply  ...   \n",
       "2     2020-05-16    2020-05-15        NaT  Does not apply  ...   \n",
       "3     2020-04-23    2020-04-23        NaT  Does not apply  ...   \n",
       "4     2020-05-14    2020-05-12        NaT  Does not apply  ...   \n",
       "\n",
       "  country_nacionality  country_origin             icu age_range state_um_name  \\\n",
       "0              México   It is ignored  Does not apply     20-24        México   \n",
       "1              México   It is ignored  Does not apply     52-56        México   \n",
       "2              México   It is ignored  Does not apply     12-16        México   \n",
       "3              México   It is ignored  Does not apply     24-28        México   \n",
       "4              México   It is ignored  Does not apply     48-52        México   \n",
       "\n",
       "  sate_nac_name state_res_name mun_res_name mun_cvegeo status  \n",
       "0        México         México      Acolman      15002  Alive  \n",
       "1        México         México      Acolman      15002  Alive  \n",
       "2        México         México      Acolman      15002  Alive  \n",
       "3        México         México      Acolman      15002  Alive  \n",
       "4        México         México      Acolman      15002  Alive  \n",
       "\n",
       "[5 rows x 38 columns]"
      ]
     },
     "execution_count": 52,
     "metadata": {},
     "output_type": "execute_result"
    }
   ],
   "source": [
    "cases_df_verbose_en = (\n",
    "    cases_df_verbose.\n",
    "    rename(columns=en_columns).\n",
    "    replace(to_replace=en_replacement_values)\n",
    ")\n",
    "cases_df_verbose_en.head()"
   ]
  },
  {
   "cell_type": "code",
   "execution_count": 53,
   "metadata": {},
   "outputs": [],
   "source": [
    "out_en_cases_file = out_cases_dir.joinpath(\"{}_en{}\".format(cases_file.stem, cases_file.suffix))"
   ]
  },
  {
   "cell_type": "code",
   "execution_count": 54,
   "metadata": {},
   "outputs": [],
   "source": [
    "cases_df_verbose_en.to_csv(out_en_cases_file, index=False)"
   ]
  }
 ],
 "metadata": {
  "kernelspec": {
   "display_name": "Python 3",
   "language": "python",
   "name": "python3"
  },
  "language_info": {
   "codemirror_mode": {
    "name": "ipython",
    "version": 3
   },
   "file_extension": ".py",
   "mimetype": "text/x-python",
   "name": "python",
   "nbconvert_exporter": "python",
   "pygments_lexer": "ipython3",
   "version": "3.7.6"
  }
 },
 "nbformat": 4,
 "nbformat_minor": 4
}
