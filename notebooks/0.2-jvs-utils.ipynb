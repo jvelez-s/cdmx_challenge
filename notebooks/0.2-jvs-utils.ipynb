{
 "cells": [
  {
   "cell_type": "markdown",
   "metadata": {},
   "source": [
    "# 0.2 Utils"
   ]
  },
  {
   "cell_type": "markdown",
   "metadata": {},
   "source": [
    "## Imports"
   ]
  },
  {
   "cell_type": "code",
   "execution_count": 1,
   "metadata": {},
   "outputs": [],
   "source": [
    "import matplotlib.pyplot as plt\n",
    "\n",
    "from pyprojroot import here"
   ]
  },
  {
   "cell_type": "markdown",
   "metadata": {},
   "source": [
    "## Functions definition"
   ]
  },
  {
   "cell_type": "markdown",
   "metadata": {},
   "source": [
    "### Paths"
   ]
  },
  {
   "cell_type": "code",
   "execution_count": 2,
   "metadata": {},
   "outputs": [],
   "source": [
    "def auto_directories(prefix: str=\"_\") -> dict:\n",
    "    \"\"\"\"\"\"\n",
    "    \n",
    "    directories = {\n",
    "        '_' + path.stem: path\n",
    "        for path in here().rglob('**')\n",
    "        if path.is_dir() and not path.anchor + '.' in str(path)\n",
    "    }\n",
    "    \n",
    "    return directories"
   ]
  },
  {
   "cell_type": "code",
   "execution_count": 3,
   "metadata": {},
   "outputs": [],
   "source": [
    "def make_dir_function(dirname:str):\n",
    "    \"\"\"\"\"\"\n",
    "    \n",
    "    def dir_path(*args):\n",
    "        return here().joinpath(dirname, *args)\n",
    "\n",
    "    return dir_path"
   ]
  },
  {
   "cell_type": "markdown",
   "metadata": {},
   "source": [
    "### Download data"
   ]
  },
  {
   "cell_type": "code",
   "execution_count": 4,
   "metadata": {},
   "outputs": [],
   "source": [
    "def download_data(url: str, out_dir, unzip_file: bool=True, out_file: str = None) -> list:\n",
    "    \"\"\"\"\"\"\n",
    "    \n",
    "    # Create out directory if not exist.\n",
    "    out_dir.mkdir(exist_ok=True)\n",
    "    \n",
    "    if unzip_file:\n",
    "                \n",
    "        # Download file in a temporal file and unzip it in the requested directory.\n",
    "        !wget -q -O tmp.zip $url && unzip -q -o tmp.zip -d $out_dir\n",
    "\n",
    "        # Return a list of the files contained in the zip.\n",
    "        files = !unzip -Z1 tmp.zip && rm -r tmp.zip\n",
    "        \n",
    "    else:\n",
    "        \n",
    "        if out_file is None:\n",
    "            !wget -q -c $url -P $out_dir\n",
    "            files = !basename $url\n",
    "        else:\n",
    "            full_file = out_dir.joinpath(out_file)\n",
    "            !wget -q -c -O $full_file $url\n",
    "            files = out_file\n",
    "    \n",
    "    return files"
   ]
  }
 ],
 "metadata": {
  "kernelspec": {
   "display_name": "Python 3",
   "language": "python",
   "name": "python3"
  },
  "language_info": {
   "codemirror_mode": {
    "name": "ipython",
    "version": 3
   },
   "file_extension": ".py",
   "mimetype": "text/x-python",
   "name": "python",
   "nbconvert_exporter": "python",
   "pygments_lexer": "ipython3",
   "version": "3.7.6"
  }
 },
 "nbformat": 4,
 "nbformat_minor": 4
}
