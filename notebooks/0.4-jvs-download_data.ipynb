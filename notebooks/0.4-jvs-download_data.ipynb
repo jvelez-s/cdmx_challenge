{
 "cells": [
  {
   "cell_type": "markdown",
   "metadata": {},
   "source": [
    "# 0.4 Download data"
   ]
  },
  {
   "cell_type": "markdown",
   "metadata": {},
   "source": [
    "## Imports"
   ]
  },
  {
   "cell_type": "code",
   "execution_count": 1,
   "metadata": {},
   "outputs": [],
   "source": [
    "from pyprojroot import here"
   ]
  },
  {
   "cell_type": "markdown",
   "metadata": {},
   "source": [
    "## Run setup"
   ]
  },
  {
   "cell_type": "code",
   "execution_count": 2,
   "metadata": {},
   "outputs": [],
   "source": [
    "setup_file = here(\"notebooks\").joinpath(\"0.3-jvs-setup.ipynb\")\n",
    "%run $setup_file"
   ]
  },
  {
   "cell_type": "markdown",
   "metadata": {},
   "source": [
    "## Download data directory"
   ]
  },
  {
   "cell_type": "code",
   "execution_count": 3,
   "metadata": {},
   "outputs": [],
   "source": [
    "download_dir = datadir(\"external\")\n",
    "download_dir.mkdir(exist_ok=True)"
   ]
  },
  {
   "cell_type": "markdown",
   "metadata": {},
   "source": [
    "##  Mexican government data on coronavirus"
   ]
  },
  {
   "cell_type": "code",
   "execution_count": 4,
   "metadata": {},
   "outputs": [],
   "source": [
    "mexican_government_dir = download_dir.joinpath(\"mexican_government\")"
   ]
  },
  {
   "cell_type": "markdown",
   "metadata": {},
   "source": [
    "### Cases data"
   ]
  },
  {
   "cell_type": "code",
   "execution_count": 5,
   "metadata": {},
   "outputs": [],
   "source": [
    "cases_data_url = \"http://datosabiertos.salud.gob.mx/gobmx/salud/datos_abiertos/datos_abiertos_covid19.zip\"\n",
    "cases_dir = mexican_government_dir.joinpath(\"cases\")"
   ]
  },
  {
   "cell_type": "code",
   "execution_count": 6,
   "metadata": {},
   "outputs": [
    {
     "data": {
      "text/plain": [
       "['200811COVID19MEXICO.csv']"
      ]
     },
     "execution_count": 6,
     "metadata": {},
     "output_type": "execute_result"
    }
   ],
   "source": [
    "download_data(cases_data_url, cases_dir)"
   ]
  },
  {
   "cell_type": "markdown",
   "metadata": {},
   "source": [
    "### Data dictionary"
   ]
  },
  {
   "cell_type": "code",
   "execution_count": 7,
   "metadata": {},
   "outputs": [],
   "source": [
    "data_dictionary_url = \"http://epidemiologia.salud.gob.mx/gobmx/salud/datos_abiertos/diccionario_datos_covid19.zip\"\n",
    "data_dictionary_dir = mexican_government_dir.joinpath(\"data_dictionary\")"
   ]
  },
  {
   "cell_type": "code",
   "execution_count": 8,
   "metadata": {
    "tags": []
   },
   "outputs": [
    {
     "data": {
      "text/plain": [
       "['diccionario_datos_covid19/Catalogos_0412.xlsx',\n",
       " 'diccionario_datos_covid19/Descriptores_0419.xlsx']"
      ]
     },
     "execution_count": 8,
     "metadata": {},
     "output_type": "execute_result"
    }
   ],
   "source": [
    "download_data(data_dictionary_url, data_dictionary_dir)"
   ]
  },
  {
   "cell_type": "markdown",
   "metadata": {},
   "source": [
    "## Geospatial data"
   ]
  },
  {
   "cell_type": "code",
   "execution_count": 9,
   "metadata": {},
   "outputs": [],
   "source": [
    "geospatial_url = \"http://internet.contenidos.inegi.org.mx/contenidos/productos/prod_serv/contenidos/espanol/bvinegi/productos/geografia/marcogeo/889463776079/mg_sep2019_integrado.zip\"\n",
    "geospatial_data_dir = download_dir.joinpath(\"geospatial\")"
   ]
  },
  {
   "cell_type": "markdown",
   "metadata": {},
   "source": [
    "### Data with shape files"
   ]
  },
  {
   "cell_type": "code",
   "execution_count": 10,
   "metadata": {},
   "outputs": [
    {
     "name": "stdout",
     "output_type": "stream",
     "text": [
      "error:  cannot create /Users/jvelez/Documents/GitHub/cdmx_challenge/data/external/geospatial/mg_sep2019_integrado/catalogos/l�eme.pdf\n",
      "        Illegal byte sequence\n",
      "error:  cannot create /Users/jvelez/Documents/GitHub/cdmx_challenge/data/external/geospatial/mg_sep2019_integrado/catalogos/l�eme.txt\n",
      "        Illegal byte sequence\n"
     ]
    },
    {
     "data": {
      "text/plain": [
       "['mg_sep2019_integrado/catalogos/',\n",
       " 'mg_sep2019_integrado/catalogos/contenido.pdf',\n",
       " 'mg_sep2019_integrado/catalogos/contenido.txt',\n",
       " 'mg_sep2019_integrado/catalogos/entidades_federativas.csv',\n",
       " 'mg_sep2019_integrado/catalogos/entidades_federativas.pdf',\n",
       " 'mg_sep2019_integrado/catalogos/localidades_islas.csv',\n",
       " 'mg_sep2019_integrado/catalogos/localidades_islas.pdf',\n",
       " 'mg_sep2019_integrado/catalogos/localidades_rurales_que_rebasan_AGEB.csv',\n",
       " 'mg_sep2019_integrado/catalogos/localidades_rurales_que_rebasan_AGEB.pdf',\n",
       " 'mg_sep2019_integrado/catalogos/localidades_rurales_que_rebasan_su_municipio.csv',\n",
       " 'mg_sep2019_integrado/catalogos/localidades_rurales_que_rebasan_su_municipio.pdf',\n",
       " 'mg_sep2019_integrado/catalogos/localidades_urbanas_que_rebasan_su_municipio.csv',\n",
       " 'mg_sep2019_integrado/catalogos/localidades_urbanas_que_rebasan_su_municipio.pdf',\n",
       " 'mg_sep2019_integrado/catalogos/localidades_urbanas_y_rurales_amanzanadas.csv',\n",
       " 'mg_sep2019_integrado/catalogos/localidades_urbanas_y_rurales_amanzanadas.pdf',\n",
       " 'mg_sep2019_integrado/catalogos/l�eme.pdf',\n",
       " 'mg_sep2019_integrado/catalogos/l�eme.txt',\n",
       " 'mg_sep2019_integrado/catalogos/municipios.csv',\n",
       " 'mg_sep2019_integrado/catalogos/municipios.pdf',\n",
       " 'mg_sep2019_integrado/conjunto_de_datos/',\n",
       " 'mg_sep2019_integrado/conjunto_de_datos/00a.cpg',\n",
       " 'mg_sep2019_integrado/conjunto_de_datos/00a.dbf',\n",
       " 'mg_sep2019_integrado/conjunto_de_datos/00a.prj',\n",
       " 'mg_sep2019_integrado/conjunto_de_datos/00a.shp',\n",
       " 'mg_sep2019_integrado/conjunto_de_datos/00a.shx',\n",
       " 'mg_sep2019_integrado/conjunto_de_datos/00ent.cpg',\n",
       " 'mg_sep2019_integrado/conjunto_de_datos/00ent.dbf',\n",
       " 'mg_sep2019_integrado/conjunto_de_datos/00ent.prj',\n",
       " 'mg_sep2019_integrado/conjunto_de_datos/00ent.shp',\n",
       " 'mg_sep2019_integrado/conjunto_de_datos/00ent.shx',\n",
       " 'mg_sep2019_integrado/conjunto_de_datos/00l.cpg',\n",
       " 'mg_sep2019_integrado/conjunto_de_datos/00l.dbf',\n",
       " 'mg_sep2019_integrado/conjunto_de_datos/00l.prj',\n",
       " 'mg_sep2019_integrado/conjunto_de_datos/00l.shp',\n",
       " 'mg_sep2019_integrado/conjunto_de_datos/00l.shx',\n",
       " 'mg_sep2019_integrado/conjunto_de_datos/00lpr.cpg',\n",
       " 'mg_sep2019_integrado/conjunto_de_datos/00lpr.dbf',\n",
       " 'mg_sep2019_integrado/conjunto_de_datos/00lpr.prj',\n",
       " 'mg_sep2019_integrado/conjunto_de_datos/00lpr.shp',\n",
       " 'mg_sep2019_integrado/conjunto_de_datos/00lpr.shx',\n",
       " 'mg_sep2019_integrado/conjunto_de_datos/00mun.cpg',\n",
       " 'mg_sep2019_integrado/conjunto_de_datos/00mun.dbf',\n",
       " 'mg_sep2019_integrado/conjunto_de_datos/00mun.prj',\n",
       " 'mg_sep2019_integrado/conjunto_de_datos/00mun.shp',\n",
       " 'mg_sep2019_integrado/conjunto_de_datos/00mun.shx',\n",
       " 'mg_sep2019_integrado/metadatos/',\n",
       " 'mg_sep2019_integrado/metadatos/metadatos_mg_septiembre2019.txt',\n",
       " 'mg_sep2019_integrado/metadatos/mg_septiembre2019_integrado.txt',\n",
       " 'mg_sep2019_integrado/metadatos/mg_septiembre2019_integrado.xml']"
      ]
     },
     "execution_count": 10,
     "metadata": {},
     "output_type": "execute_result"
    }
   ],
   "source": [
    "download_data(geospatial_url, geospatial_data_dir)"
   ]
  },
  {
   "cell_type": "markdown",
   "metadata": {},
   "source": [
    "### Size population"
   ]
  },
  {
   "cell_type": "code",
   "execution_count": 11,
   "metadata": {},
   "outputs": [],
   "source": [
    "size_url = \"'https://www.inegi.org.mx/app/api/ageeml/Catuni/ObtenerExpLOC/?fecha=01/05/2020&tipo=2&union=0&formato=03&cod=1'\"\n",
    "out_file = \"AGEEML_20208112019806.csv\""
   ]
  },
  {
   "cell_type": "code",
   "execution_count": 12,
   "metadata": {},
   "outputs": [
    {
     "data": {
      "text/plain": [
       "'AGEEML_20208112019806.csv'"
      ]
     },
     "execution_count": 12,
     "metadata": {},
     "output_type": "execute_result"
    }
   ],
   "source": [
    "download_data(size_url, geospatial_data_dir, unzip_file=False, out_file=out_file)"
   ]
  }
 ],
 "metadata": {
  "kernelspec": {
   "display_name": "Python 3",
   "language": "python",
   "name": "python3"
  },
  "language_info": {
   "codemirror_mode": {
    "name": "ipython",
    "version": 3
   },
   "file_extension": ".py",
   "mimetype": "text/x-python",
   "name": "python",
   "nbconvert_exporter": "python",
   "pygments_lexer": "ipython3",
   "version": "3.7.6"
  }
 },
 "nbformat": 4,
 "nbformat_minor": 4
}
